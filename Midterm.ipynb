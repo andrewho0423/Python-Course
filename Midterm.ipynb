{
 "cells": [
  {
   "cell_type": "markdown",
   "metadata": {},
   "source": [
    "# 分析104年台南登革熱通報人數與一些衛生指標的關係"
   ]
  },
  {
   "cell_type": "markdown",
   "metadata": {},
   "source": [
    "### 資料來源：台南市政府資料開放平台\n",
    "http://data.tainan.gov.tw/dataset/df-mosquito-density/resource/5021f705-ec2d-4490-b66c-355b1ffd0e77\n",
    "http://data.tainan.gov.tw/dataset/denguefevercases/resource/7617bfcd-20e2-4f8d-a83b-6f6b479367f9"
   ]
  },
  {
   "cell_type": "code",
   "execution_count": 2,
   "metadata": {},
   "outputs": [],
   "source": [
    "import numpy as np\n",
    "import pandas as pd\n",
    "import matplotlib.pyplot as plt\n",
    "import matplotlib as mpl\n",
    "from sklearn.linear_model import LinearRegression as LR"
   ]
  },
  {
   "cell_type": "markdown",
   "metadata": {},
   "source": [
    "### 匯入資料"
   ]
  },
  {
   "cell_type": "code",
   "execution_count": 3,
   "metadata": {},
   "outputs": [],
   "source": [
    "df_ill = pd.read_csv(\"/Users/USER/Desktop/dengue104.csv\")\n",
    "df_index = pd.read_csv(\"/Users/USER/Desktop/104110.csv\")"
   ]
  },
  {
   "cell_type": "markdown",
   "metadata": {},
   "source": [
    "### 檢查一下"
   ]
  },
  {
   "cell_type": "code",
   "execution_count": 4,
   "metadata": {},
   "outputs": [
    {
     "data": {
      "text/html": [
       "<div>\n",
       "<style scoped>\n",
       "    .dataframe tbody tr th:only-of-type {\n",
       "        vertical-align: middle;\n",
       "    }\n",
       "\n",
       "    .dataframe tbody tr th {\n",
       "        vertical-align: top;\n",
       "    }\n",
       "\n",
       "    .dataframe thead th {\n",
       "        text-align: right;\n",
       "    }\n",
       "</style>\n",
       "<table border=\"1\" class=\"dataframe\">\n",
       "  <thead>\n",
       "    <tr style=\"text-align: right;\">\n",
       "      <th></th>\n",
       "      <th>確診日</th>\n",
       "      <th>區別</th>\n",
       "      <th>里別</th>\n",
       "      <th>道路名稱</th>\n",
       "      <th>經度座標</th>\n",
       "      <th>緯度座標</th>\n",
       "    </tr>\n",
       "  </thead>\n",
       "  <tbody>\n",
       "    <tr>\n",
       "      <th>0</th>\n",
       "      <td>2015/1/6</td>\n",
       "      <td>關廟區</td>\n",
       "      <td>南花里</td>\n",
       "      <td>明德街</td>\n",
       "      <td>120.234</td>\n",
       "      <td>22.987</td>\n",
       "    </tr>\n",
       "    <tr>\n",
       "      <th>1</th>\n",
       "      <td>2015/1/19</td>\n",
       "      <td>東區</td>\n",
       "      <td>文聖里</td>\n",
       "      <td>裕文路</td>\n",
       "      <td>120.197</td>\n",
       "      <td>22.979</td>\n",
       "    </tr>\n",
       "    <tr>\n",
       "      <th>2</th>\n",
       "      <td>2015/5/21</td>\n",
       "      <td>北區</td>\n",
       "      <td>六甲里</td>\n",
       "      <td>和緯路</td>\n",
       "      <td>120.198</td>\n",
       "      <td>22.997</td>\n",
       "    </tr>\n",
       "    <tr>\n",
       "      <th>3</th>\n",
       "      <td>2015/5/24</td>\n",
       "      <td>北區</td>\n",
       "      <td>六甲里</td>\n",
       "      <td>和緯路</td>\n",
       "      <td>120.198</td>\n",
       "      <td>22.997</td>\n",
       "    </tr>\n",
       "    <tr>\n",
       "      <th>4</th>\n",
       "      <td>2015/6/4</td>\n",
       "      <td>北區</td>\n",
       "      <td>六甲里</td>\n",
       "      <td>和緯路</td>\n",
       "      <td>120.209</td>\n",
       "      <td>23.005</td>\n",
       "    </tr>\n",
       "  </tbody>\n",
       "</table>\n",
       "</div>"
      ],
      "text/plain": [
       "         確診日   區別   里別 道路名稱     經度座標    緯度座標\n",
       "0   2015/1/6  關廟區  南花里  明德街  120.234  22.987\n",
       "1  2015/1/19   東區  文聖里  裕文路  120.197  22.979\n",
       "2  2015/5/21   北區  六甲里  和緯路  120.198  22.997\n",
       "3  2015/5/24   北區  六甲里  和緯路  120.198  22.997\n",
       "4   2015/6/4   北區  六甲里  和緯路  120.209  23.005"
      ]
     },
     "execution_count": 4,
     "metadata": {},
     "output_type": "execute_result"
    }
   ],
   "source": [
    "df_ill.head()"
   ]
  },
  {
   "cell_type": "code",
   "execution_count": 5,
   "metadata": {},
   "outputs": [
    {
     "data": {
      "text/html": [
       "<div>\n",
       "<style scoped>\n",
       "    .dataframe tbody tr th:only-of-type {\n",
       "        vertical-align: middle;\n",
       "    }\n",
       "\n",
       "    .dataframe tbody tr th {\n",
       "        vertical-align: top;\n",
       "    }\n",
       "\n",
       "    .dataframe thead th {\n",
       "        text-align: right;\n",
       "    }\n",
       "</style>\n",
       "<table border=\"1\" class=\"dataframe\">\n",
       "  <thead>\n",
       "    <tr style=\"text-align: right;\">\n",
       "      <th></th>\n",
       "      <th>日期</th>\n",
       "      <th>區別</th>\n",
       "      <th>里別</th>\n",
       "      <th>調查種類</th>\n",
       "      <th>調查戶數</th>\n",
       "      <th>陽性戶數</th>\n",
       "      <th>調查容器數(戶內)</th>\n",
       "      <th>調查容器數(戶外)</th>\n",
       "      <th>陽性容器數(戶內)</th>\n",
       "      <th>陽性容器數(戶外)</th>\n",
       "      <th>布氏指數</th>\n",
       "      <th>布氏級數</th>\n",
       "      <th>容器指數</th>\n",
       "      <th>容器級數</th>\n",
       "    </tr>\n",
       "  </thead>\n",
       "  <tbody>\n",
       "    <tr>\n",
       "      <th>0</th>\n",
       "      <td>104/1/11</td>\n",
       "      <td>安定區</td>\n",
       "      <td>海寮里</td>\n",
       "      <td>住宅</td>\n",
       "      <td>50</td>\n",
       "      <td>0</td>\n",
       "      <td>0</td>\n",
       "      <td>4</td>\n",
       "      <td>0</td>\n",
       "      <td>0</td>\n",
       "      <td>0</td>\n",
       "      <td>0</td>\n",
       "      <td>0</td>\n",
       "      <td>0</td>\n",
       "    </tr>\n",
       "    <tr>\n",
       "      <th>1</th>\n",
       "      <td>104/1/13</td>\n",
       "      <td>安定區</td>\n",
       "      <td>安定里</td>\n",
       "      <td>住宅</td>\n",
       "      <td>50</td>\n",
       "      <td>0</td>\n",
       "      <td>0</td>\n",
       "      <td>4</td>\n",
       "      <td>0</td>\n",
       "      <td>0</td>\n",
       "      <td>0</td>\n",
       "      <td>0</td>\n",
       "      <td>0</td>\n",
       "      <td>0</td>\n",
       "    </tr>\n",
       "    <tr>\n",
       "      <th>2</th>\n",
       "      <td>104/1/16</td>\n",
       "      <td>安定區</td>\n",
       "      <td>海寮里</td>\n",
       "      <td>住宅</td>\n",
       "      <td>50</td>\n",
       "      <td>0</td>\n",
       "      <td>0</td>\n",
       "      <td>5</td>\n",
       "      <td>0</td>\n",
       "      <td>0</td>\n",
       "      <td>0</td>\n",
       "      <td>0</td>\n",
       "      <td>0</td>\n",
       "      <td>0</td>\n",
       "    </tr>\n",
       "    <tr>\n",
       "      <th>3</th>\n",
       "      <td>104/1/20</td>\n",
       "      <td>安定區</td>\n",
       "      <td>保西里</td>\n",
       "      <td>住宅</td>\n",
       "      <td>50</td>\n",
       "      <td>0</td>\n",
       "      <td>0</td>\n",
       "      <td>9</td>\n",
       "      <td>0</td>\n",
       "      <td>0</td>\n",
       "      <td>0</td>\n",
       "      <td>0</td>\n",
       "      <td>0</td>\n",
       "      <td>0</td>\n",
       "    </tr>\n",
       "    <tr>\n",
       "      <th>4</th>\n",
       "      <td>104/1/22</td>\n",
       "      <td>安定區</td>\n",
       "      <td>新吉里</td>\n",
       "      <td>住宅</td>\n",
       "      <td>50</td>\n",
       "      <td>0</td>\n",
       "      <td>0</td>\n",
       "      <td>4</td>\n",
       "      <td>0</td>\n",
       "      <td>0</td>\n",
       "      <td>0</td>\n",
       "      <td>0</td>\n",
       "      <td>0</td>\n",
       "      <td>0</td>\n",
       "    </tr>\n",
       "  </tbody>\n",
       "</table>\n",
       "</div>"
      ],
      "text/plain": [
       "         日期   區別   里別 調查種類  調查戶數  陽性戶數  調查容器數(戶內)  調查容器數(戶外)  陽性容器數(戶內)  \\\n",
       "0  104/1/11  安定區  海寮里   住宅    50     0          0          4          0   \n",
       "1  104/1/13  安定區  安定里   住宅    50     0          0          4          0   \n",
       "2  104/1/16  安定區  海寮里   住宅    50     0          0          5          0   \n",
       "3  104/1/20  安定區  保西里   住宅    50     0          0          9          0   \n",
       "4  104/1/22  安定區  新吉里   住宅    50     0          0          4          0   \n",
       "\n",
       "   陽性容器數(戶外)  布氏指數  布氏級數  容器指數  容器級數  \n",
       "0          0     0     0     0     0  \n",
       "1          0     0     0     0     0  \n",
       "2          0     0     0     0     0  \n",
       "3          0     0     0     0     0  \n",
       "4          0     0     0     0     0  "
      ]
     },
     "execution_count": 5,
     "metadata": {},
     "output_type": "execute_result"
    }
   ],
   "source": [
    "df_index.head()"
   ]
  },
  {
   "cell_type": "markdown",
   "metadata": {},
   "source": [
    "### 依照各區排序"
   ]
  },
  {
   "cell_type": "code",
   "execution_count": 6,
   "metadata": {},
   "outputs": [],
   "source": [
    "df_ill = df_ill.sort_values(by=['區別'])\n",
    "df_index = df_index.sort_values(by=['區別'])"
   ]
  },
  {
   "cell_type": "markdown",
   "metadata": {},
   "source": [
    "### 再次檢查"
   ]
  },
  {
   "cell_type": "code",
   "execution_count": 7,
   "metadata": {},
   "outputs": [
    {
     "data": {
      "text/html": [
       "<div>\n",
       "<style scoped>\n",
       "    .dataframe tbody tr th:only-of-type {\n",
       "        vertical-align: middle;\n",
       "    }\n",
       "\n",
       "    .dataframe tbody tr th {\n",
       "        vertical-align: top;\n",
       "    }\n",
       "\n",
       "    .dataframe thead th {\n",
       "        text-align: right;\n",
       "    }\n",
       "</style>\n",
       "<table border=\"1\" class=\"dataframe\">\n",
       "  <thead>\n",
       "    <tr style=\"text-align: right;\">\n",
       "      <th></th>\n",
       "      <th>確診日</th>\n",
       "      <th>區別</th>\n",
       "      <th>里別</th>\n",
       "      <th>道路名稱</th>\n",
       "      <th>經度座標</th>\n",
       "      <th>緯度座標</th>\n",
       "    </tr>\n",
       "  </thead>\n",
       "  <tbody>\n",
       "    <tr>\n",
       "      <th>12700</th>\n",
       "      <td>2015/9/22</td>\n",
       "      <td>七股區</td>\n",
       "      <td>大潭里</td>\n",
       "      <td>大潭里</td>\n",
       "      <td>120.134</td>\n",
       "      <td>23.187</td>\n",
       "    </tr>\n",
       "    <tr>\n",
       "      <th>5914</th>\n",
       "      <td>2015/9/8</td>\n",
       "      <td>七股區</td>\n",
       "      <td>大寮里</td>\n",
       "      <td>NaN</td>\n",
       "      <td>120.149</td>\n",
       "      <td>23.149</td>\n",
       "    </tr>\n",
       "    <tr>\n",
       "      <th>17530</th>\n",
       "      <td>2015/10/4</td>\n",
       "      <td>七股區</td>\n",
       "      <td>樹林里</td>\n",
       "      <td>樹林里</td>\n",
       "      <td>120.217</td>\n",
       "      <td>22.980</td>\n",
       "    </tr>\n",
       "    <tr>\n",
       "      <th>19500</th>\n",
       "      <td>2015/10/12</td>\n",
       "      <td>七股區</td>\n",
       "      <td>十份里</td>\n",
       "      <td>十份里</td>\n",
       "      <td>120.099</td>\n",
       "      <td>23.094</td>\n",
       "    </tr>\n",
       "    <tr>\n",
       "      <th>3488</th>\n",
       "      <td>2015/9/1</td>\n",
       "      <td>七股區</td>\n",
       "      <td>中寮里</td>\n",
       "      <td>NaN</td>\n",
       "      <td>120.109</td>\n",
       "      <td>23.155</td>\n",
       "    </tr>\n",
       "  </tbody>\n",
       "</table>\n",
       "</div>"
      ],
      "text/plain": [
       "              確診日   區別   里別 道路名稱     經度座標    緯度座標\n",
       "12700   2015/9/22  七股區  大潭里  大潭里  120.134  23.187\n",
       "5914     2015/9/8  七股區  大寮里  NaN  120.149  23.149\n",
       "17530   2015/10/4  七股區  樹林里  樹林里  120.217  22.980\n",
       "19500  2015/10/12  七股區  十份里  十份里  120.099  23.094\n",
       "3488     2015/9/1  七股區  中寮里  NaN  120.109  23.155"
      ]
     },
     "execution_count": 7,
     "metadata": {},
     "output_type": "execute_result"
    }
   ],
   "source": [
    "df_ill.head()"
   ]
  },
  {
   "cell_type": "code",
   "execution_count": 8,
   "metadata": {
    "scrolled": true
   },
   "outputs": [
    {
     "data": {
      "text/html": [
       "<div>\n",
       "<style scoped>\n",
       "    .dataframe tbody tr th:only-of-type {\n",
       "        vertical-align: middle;\n",
       "    }\n",
       "\n",
       "    .dataframe tbody tr th {\n",
       "        vertical-align: top;\n",
       "    }\n",
       "\n",
       "    .dataframe thead th {\n",
       "        text-align: right;\n",
       "    }\n",
       "</style>\n",
       "<table border=\"1\" class=\"dataframe\">\n",
       "  <thead>\n",
       "    <tr style=\"text-align: right;\">\n",
       "      <th></th>\n",
       "      <th>日期</th>\n",
       "      <th>區別</th>\n",
       "      <th>里別</th>\n",
       "      <th>調查種類</th>\n",
       "      <th>調查戶數</th>\n",
       "      <th>陽性戶數</th>\n",
       "      <th>調查容器數(戶內)</th>\n",
       "      <th>調查容器數(戶外)</th>\n",
       "      <th>陽性容器數(戶內)</th>\n",
       "      <th>陽性容器數(戶外)</th>\n",
       "      <th>布氏指數</th>\n",
       "      <th>布氏級數</th>\n",
       "      <th>容器指數</th>\n",
       "      <th>容器級數</th>\n",
       "    </tr>\n",
       "  </thead>\n",
       "  <tbody>\n",
       "    <tr>\n",
       "      <th>4139</th>\n",
       "      <td>104/8/24</td>\n",
       "      <td>七股區</td>\n",
       "      <td>義合里</td>\n",
       "      <td>住宅</td>\n",
       "      <td>78</td>\n",
       "      <td>1</td>\n",
       "      <td>0</td>\n",
       "      <td>38</td>\n",
       "      <td>0</td>\n",
       "      <td>4</td>\n",
       "      <td>5</td>\n",
       "      <td>2</td>\n",
       "      <td>11</td>\n",
       "      <td>4</td>\n",
       "    </tr>\n",
       "    <tr>\n",
       "      <th>4158</th>\n",
       "      <td>104/9/15</td>\n",
       "      <td>七股區</td>\n",
       "      <td>城內里</td>\n",
       "      <td>住宅</td>\n",
       "      <td>35</td>\n",
       "      <td>1</td>\n",
       "      <td>0</td>\n",
       "      <td>12</td>\n",
       "      <td>0</td>\n",
       "      <td>1</td>\n",
       "      <td>3</td>\n",
       "      <td>1</td>\n",
       "      <td>8</td>\n",
       "      <td>3</td>\n",
       "    </tr>\n",
       "    <tr>\n",
       "      <th>4157</th>\n",
       "      <td>104/9/15</td>\n",
       "      <td>七股區</td>\n",
       "      <td>十份里</td>\n",
       "      <td>住宅</td>\n",
       "      <td>50</td>\n",
       "      <td>1</td>\n",
       "      <td>0</td>\n",
       "      <td>9</td>\n",
       "      <td>0</td>\n",
       "      <td>2</td>\n",
       "      <td>4</td>\n",
       "      <td>1</td>\n",
       "      <td>22</td>\n",
       "      <td>6</td>\n",
       "    </tr>\n",
       "    <tr>\n",
       "      <th>4156</th>\n",
       "      <td>104/9/14</td>\n",
       "      <td>七股區</td>\n",
       "      <td>玉成里</td>\n",
       "      <td>住宅</td>\n",
       "      <td>61</td>\n",
       "      <td>1</td>\n",
       "      <td>0</td>\n",
       "      <td>11</td>\n",
       "      <td>0</td>\n",
       "      <td>1</td>\n",
       "      <td>2</td>\n",
       "      <td>1</td>\n",
       "      <td>9</td>\n",
       "      <td>3</td>\n",
       "    </tr>\n",
       "    <tr>\n",
       "      <th>4155</th>\n",
       "      <td>104/9/12</td>\n",
       "      <td>七股區</td>\n",
       "      <td>溪南里</td>\n",
       "      <td>住宅</td>\n",
       "      <td>60</td>\n",
       "      <td>1</td>\n",
       "      <td>0</td>\n",
       "      <td>40</td>\n",
       "      <td>0</td>\n",
       "      <td>2</td>\n",
       "      <td>3</td>\n",
       "      <td>1</td>\n",
       "      <td>5</td>\n",
       "      <td>2</td>\n",
       "    </tr>\n",
       "  </tbody>\n",
       "</table>\n",
       "</div>"
      ],
      "text/plain": [
       "            日期   區別   里別 調查種類  調查戶數  陽性戶數  調查容器數(戶內)  調查容器數(戶外)  陽性容器數(戶內)  \\\n",
       "4139  104/8/24  七股區  義合里   住宅    78     1          0         38          0   \n",
       "4158  104/9/15  七股區  城內里   住宅    35     1          0         12          0   \n",
       "4157  104/9/15  七股區  十份里   住宅    50     1          0          9          0   \n",
       "4156  104/9/14  七股區  玉成里   住宅    61     1          0         11          0   \n",
       "4155  104/9/12  七股區  溪南里   住宅    60     1          0         40          0   \n",
       "\n",
       "      陽性容器數(戶外)  布氏指數  布氏級數  容器指數  容器級數  \n",
       "4139          4     5     2    11     4  \n",
       "4158          1     3     1     8     3  \n",
       "4157          2     4     1    22     6  \n",
       "4156          1     2     1     9     3  \n",
       "4155          2     3     1     5     2  "
      ]
     },
     "execution_count": 8,
     "metadata": {},
     "output_type": "execute_result"
    }
   ],
   "source": [
    "df_index.head()"
   ]
  },
  {
   "cell_type": "markdown",
   "metadata": {},
   "source": [
    "### 我們希望可以依照各區把一些資料作合併（例如各區通報總人數、各區調查總戶數...）"
   ]
  },
  {
   "cell_type": "code",
   "execution_count": 9,
   "metadata": {},
   "outputs": [
    {
     "data": {
      "text/plain": [
       "日期           object\n",
       "區別           object\n",
       "里別           object\n",
       "調查種類         object\n",
       "調查戶數          int64\n",
       "陽性戶數          int64\n",
       "調查容器數(戶內)     int64\n",
       "調查容器數(戶外)     int64\n",
       "陽性容器數(戶內)     int64\n",
       "陽性容器數(戶外)     int64\n",
       "布氏指數          int64\n",
       "布氏級數          int64\n",
       "容器指數          int64\n",
       "容器級數          int64\n",
       "dtype: object"
      ]
     },
     "execution_count": 9,
     "metadata": {},
     "output_type": "execute_result"
    }
   ],
   "source": [
    "df_index.dtypes #確認資料類型是可以運算的"
   ]
  },
  {
   "cell_type": "code",
   "execution_count": 13,
   "metadata": {},
   "outputs": [],
   "source": [
    "df_index = df_index.groupby('區別').sum() #資料合併"
   ]
  },
  {
   "cell_type": "code",
   "execution_count": 14,
   "metadata": {},
   "outputs": [
    {
     "data": {
      "text/html": [
       "<div>\n",
       "<style scoped>\n",
       "    .dataframe tbody tr th:only-of-type {\n",
       "        vertical-align: middle;\n",
       "    }\n",
       "\n",
       "    .dataframe tbody tr th {\n",
       "        vertical-align: top;\n",
       "    }\n",
       "\n",
       "    .dataframe thead th {\n",
       "        text-align: right;\n",
       "    }\n",
       "</style>\n",
       "<table border=\"1\" class=\"dataframe\">\n",
       "  <thead>\n",
       "    <tr style=\"text-align: right;\">\n",
       "      <th></th>\n",
       "      <th>調查戶數</th>\n",
       "      <th>陽性戶數</th>\n",
       "      <th>調查容器數(戶內)</th>\n",
       "      <th>調查容器數(戶外)</th>\n",
       "      <th>陽性容器數(戶內)</th>\n",
       "      <th>陽性容器數(戶外)</th>\n",
       "      <th>布氏指數</th>\n",
       "      <th>布氏級數</th>\n",
       "      <th>容器指數</th>\n",
       "      <th>容器級數</th>\n",
       "    </tr>\n",
       "    <tr>\n",
       "      <th>區別</th>\n",
       "      <th></th>\n",
       "      <th></th>\n",
       "      <th></th>\n",
       "      <th></th>\n",
       "      <th></th>\n",
       "      <th></th>\n",
       "      <th></th>\n",
       "      <th></th>\n",
       "      <th></th>\n",
       "      <th></th>\n",
       "    </tr>\n",
       "  </thead>\n",
       "  <tbody>\n",
       "    <tr>\n",
       "      <th>七股區</th>\n",
       "      <td>6979</td>\n",
       "      <td>28</td>\n",
       "      <td>7</td>\n",
       "      <td>2158</td>\n",
       "      <td>0</td>\n",
       "      <td>52</td>\n",
       "      <td>64</td>\n",
       "      <td>31</td>\n",
       "      <td>209</td>\n",
       "      <td>77</td>\n",
       "    </tr>\n",
       "    <tr>\n",
       "      <th>下營區</th>\n",
       "      <td>4192</td>\n",
       "      <td>14</td>\n",
       "      <td>26</td>\n",
       "      <td>1104</td>\n",
       "      <td>0</td>\n",
       "      <td>36</td>\n",
       "      <td>48</td>\n",
       "      <td>17</td>\n",
       "      <td>141</td>\n",
       "      <td>42</td>\n",
       "    </tr>\n",
       "    <tr>\n",
       "      <th>中西區</th>\n",
       "      <td>42895</td>\n",
       "      <td>994</td>\n",
       "      <td>5890</td>\n",
       "      <td>8305</td>\n",
       "      <td>329</td>\n",
       "      <td>920</td>\n",
       "      <td>2271</td>\n",
       "      <td>635</td>\n",
       "      <td>5708</td>\n",
       "      <td>1613</td>\n",
       "    </tr>\n",
       "    <tr>\n",
       "      <th>仁德區</th>\n",
       "      <td>8448</td>\n",
       "      <td>67</td>\n",
       "      <td>514</td>\n",
       "      <td>1270</td>\n",
       "      <td>8</td>\n",
       "      <td>110</td>\n",
       "      <td>181</td>\n",
       "      <td>49</td>\n",
       "      <td>551</td>\n",
       "      <td>134</td>\n",
       "    </tr>\n",
       "    <tr>\n",
       "      <th>佳里區</th>\n",
       "      <td>3254</td>\n",
       "      <td>20</td>\n",
       "      <td>69</td>\n",
       "      <td>522</td>\n",
       "      <td>8</td>\n",
       "      <td>32</td>\n",
       "      <td>83</td>\n",
       "      <td>24</td>\n",
       "      <td>375</td>\n",
       "      <td>73</td>\n",
       "    </tr>\n",
       "  </tbody>\n",
       "</table>\n",
       "</div>"
      ],
      "text/plain": [
       "      調查戶數  陽性戶數  調查容器數(戶內)  調查容器數(戶外)  陽性容器數(戶內)  陽性容器數(戶外)  布氏指數  布氏級數  \\\n",
       "區別                                                                         \n",
       "七股區   6979    28          7       2158          0         52    64    31   \n",
       "下營區   4192    14         26       1104          0         36    48    17   \n",
       "中西區  42895   994       5890       8305        329        920  2271   635   \n",
       "仁德區   8448    67        514       1270          8        110   181    49   \n",
       "佳里區   3254    20         69        522          8         32    83    24   \n",
       "\n",
       "     容器指數  容器級數  \n",
       "區別               \n",
       "七股區   209    77  \n",
       "下營區   141    42  \n",
       "中西區  5708  1613  \n",
       "仁德區   551   134  \n",
       "佳里區   375    73  "
      ]
     },
     "execution_count": 14,
     "metadata": {},
     "output_type": "execute_result"
    }
   ],
   "source": [
    "df_index.head() #double check"
   ]
  },
  {
   "cell_type": "code",
   "execution_count": 15,
   "metadata": {},
   "outputs": [],
   "source": [
    "df_index = df_index.drop('北門區',axis=0) #由於北門區沒有通報病例，為了避免空值影響分析結果，決定刪除指數資料中北門區的資料"
   ]
  },
  {
   "cell_type": "code",
   "execution_count": 16,
   "metadata": {},
   "outputs": [],
   "source": [
    "df_index_1 = df_index.reset_index(drop=True) #重設index"
   ]
  },
  {
   "cell_type": "code",
   "execution_count": 17,
   "metadata": {
    "scrolled": true
   },
   "outputs": [
    {
     "data": {
      "text/html": [
       "<div>\n",
       "<style scoped>\n",
       "    .dataframe tbody tr th:only-of-type {\n",
       "        vertical-align: middle;\n",
       "    }\n",
       "\n",
       "    .dataframe tbody tr th {\n",
       "        vertical-align: top;\n",
       "    }\n",
       "\n",
       "    .dataframe thead th {\n",
       "        text-align: right;\n",
       "    }\n",
       "</style>\n",
       "<table border=\"1\" class=\"dataframe\">\n",
       "  <thead>\n",
       "    <tr style=\"text-align: right;\">\n",
       "      <th></th>\n",
       "      <th>調查戶數</th>\n",
       "      <th>陽性戶數</th>\n",
       "      <th>調查容器數(戶內)</th>\n",
       "      <th>調查容器數(戶外)</th>\n",
       "      <th>陽性容器數(戶內)</th>\n",
       "      <th>陽性容器數(戶外)</th>\n",
       "      <th>布氏指數</th>\n",
       "      <th>布氏級數</th>\n",
       "      <th>容器指數</th>\n",
       "      <th>容器級數</th>\n",
       "    </tr>\n",
       "  </thead>\n",
       "  <tbody>\n",
       "    <tr>\n",
       "      <th>0</th>\n",
       "      <td>6979</td>\n",
       "      <td>28</td>\n",
       "      <td>7</td>\n",
       "      <td>2158</td>\n",
       "      <td>0</td>\n",
       "      <td>52</td>\n",
       "      <td>64</td>\n",
       "      <td>31</td>\n",
       "      <td>209</td>\n",
       "      <td>77</td>\n",
       "    </tr>\n",
       "    <tr>\n",
       "      <th>1</th>\n",
       "      <td>4192</td>\n",
       "      <td>14</td>\n",
       "      <td>26</td>\n",
       "      <td>1104</td>\n",
       "      <td>0</td>\n",
       "      <td>36</td>\n",
       "      <td>48</td>\n",
       "      <td>17</td>\n",
       "      <td>141</td>\n",
       "      <td>42</td>\n",
       "    </tr>\n",
       "    <tr>\n",
       "      <th>2</th>\n",
       "      <td>42895</td>\n",
       "      <td>994</td>\n",
       "      <td>5890</td>\n",
       "      <td>8305</td>\n",
       "      <td>329</td>\n",
       "      <td>920</td>\n",
       "      <td>2271</td>\n",
       "      <td>635</td>\n",
       "      <td>5708</td>\n",
       "      <td>1613</td>\n",
       "    </tr>\n",
       "    <tr>\n",
       "      <th>3</th>\n",
       "      <td>8448</td>\n",
       "      <td>67</td>\n",
       "      <td>514</td>\n",
       "      <td>1270</td>\n",
       "      <td>8</td>\n",
       "      <td>110</td>\n",
       "      <td>181</td>\n",
       "      <td>49</td>\n",
       "      <td>551</td>\n",
       "      <td>134</td>\n",
       "    </tr>\n",
       "    <tr>\n",
       "      <th>4</th>\n",
       "      <td>3254</td>\n",
       "      <td>20</td>\n",
       "      <td>69</td>\n",
       "      <td>522</td>\n",
       "      <td>8</td>\n",
       "      <td>32</td>\n",
       "      <td>83</td>\n",
       "      <td>24</td>\n",
       "      <td>375</td>\n",
       "      <td>73</td>\n",
       "    </tr>\n",
       "  </tbody>\n",
       "</table>\n",
       "</div>"
      ],
      "text/plain": [
       "    調查戶數  陽性戶數  調查容器數(戶內)  調查容器數(戶外)  陽性容器數(戶內)  陽性容器數(戶外)  布氏指數  布氏級數  容器指數  \\\n",
       "0   6979    28          7       2158          0         52    64    31   209   \n",
       "1   4192    14         26       1104          0         36    48    17   141   \n",
       "2  42895   994       5890       8305        329        920  2271   635  5708   \n",
       "3   8448    67        514       1270          8        110   181    49   551   \n",
       "4   3254    20         69        522          8         32    83    24   375   \n",
       "\n",
       "   容器級數  \n",
       "0    77  \n",
       "1    42  \n",
       "2  1613  \n",
       "3   134  \n",
       "4    73  "
      ]
     },
     "execution_count": 17,
     "metadata": {},
     "output_type": "execute_result"
    }
   ],
   "source": [
    "df_index_1.head() #double check"
   ]
  },
  {
   "cell_type": "code",
   "execution_count": 18,
   "metadata": {},
   "outputs": [],
   "source": [
    "df_add = df_ill['區別'].value_counts() #依各區別加總通報病例總數"
   ]
  },
  {
   "cell_type": "code",
   "execution_count": 19,
   "metadata": {},
   "outputs": [],
   "source": [
    "df_add_count = pd.DataFrame(df_add)\n",
    "df_add_count = df_add_count.reset_index()\n",
    "df_add_count.columns = ['區別', '人數'] #將剛剛的總數另外設成一個dataframe"
   ]
  },
  {
   "cell_type": "code",
   "execution_count": 20,
   "metadata": {},
   "outputs": [
    {
     "data": {
      "text/html": [
       "<div>\n",
       "<style scoped>\n",
       "    .dataframe tbody tr th:only-of-type {\n",
       "        vertical-align: middle;\n",
       "    }\n",
       "\n",
       "    .dataframe tbody tr th {\n",
       "        vertical-align: top;\n",
       "    }\n",
       "\n",
       "    .dataframe thead th {\n",
       "        text-align: right;\n",
       "    }\n",
       "</style>\n",
       "<table border=\"1\" class=\"dataframe\">\n",
       "  <thead>\n",
       "    <tr style=\"text-align: right;\">\n",
       "      <th></th>\n",
       "      <th>區別</th>\n",
       "      <th>人數</th>\n",
       "    </tr>\n",
       "  </thead>\n",
       "  <tbody>\n",
       "    <tr>\n",
       "      <th>0</th>\n",
       "      <td>北區</td>\n",
       "      <td>5772</td>\n",
       "    </tr>\n",
       "    <tr>\n",
       "      <th>1</th>\n",
       "      <td>南區</td>\n",
       "      <td>3529</td>\n",
       "    </tr>\n",
       "    <tr>\n",
       "      <th>2</th>\n",
       "      <td>中西區</td>\n",
       "      <td>3492</td>\n",
       "    </tr>\n",
       "    <tr>\n",
       "      <th>3</th>\n",
       "      <td>東區</td>\n",
       "      <td>3141</td>\n",
       "    </tr>\n",
       "    <tr>\n",
       "      <th>4</th>\n",
       "      <td>永康區</td>\n",
       "      <td>2703</td>\n",
       "    </tr>\n",
       "  </tbody>\n",
       "</table>\n",
       "</div>"
      ],
      "text/plain": [
       "    區別    人數\n",
       "0   北區  5772\n",
       "1   南區  3529\n",
       "2  中西區  3492\n",
       "3   東區  3141\n",
       "4  永康區  2703"
      ]
     },
     "execution_count": 20,
     "metadata": {},
     "output_type": "execute_result"
    }
   ],
   "source": [
    "df_add_count.head() #檢查看看"
   ]
  },
  {
   "cell_type": "code",
   "execution_count": 58,
   "metadata": {},
   "outputs": [],
   "source": [
    "df_add_count = df_add_count.sort_values(by=['區別'])\n",
    "df_add_count = df_add_count.reset_index(drop=True) #依照區別排序並重設index"
   ]
  },
  {
   "cell_type": "code",
   "execution_count": 59,
   "metadata": {},
   "outputs": [],
   "source": [
    "df = pd.concat([df_add_count,df_index_1],axis=1) #合併病例數目資料與指數資料"
   ]
  },
  {
   "cell_type": "code",
   "execution_count": 60,
   "metadata": {},
   "outputs": [
    {
     "data": {
      "text/html": [
       "<div>\n",
       "<style scoped>\n",
       "    .dataframe tbody tr th:only-of-type {\n",
       "        vertical-align: middle;\n",
       "    }\n",
       "\n",
       "    .dataframe tbody tr th {\n",
       "        vertical-align: top;\n",
       "    }\n",
       "\n",
       "    .dataframe thead th {\n",
       "        text-align: right;\n",
       "    }\n",
       "</style>\n",
       "<table border=\"1\" class=\"dataframe\">\n",
       "  <thead>\n",
       "    <tr style=\"text-align: right;\">\n",
       "      <th></th>\n",
       "      <th>區別</th>\n",
       "      <th>人數</th>\n",
       "      <th>調查戶數</th>\n",
       "      <th>陽性戶數</th>\n",
       "      <th>調查容器數(戶內)</th>\n",
       "      <th>調查容器數(戶外)</th>\n",
       "      <th>陽性容器數(戶內)</th>\n",
       "      <th>陽性容器數(戶外)</th>\n",
       "      <th>布氏指數</th>\n",
       "      <th>布氏級數</th>\n",
       "      <th>容器指數</th>\n",
       "      <th>容器級數</th>\n",
       "    </tr>\n",
       "  </thead>\n",
       "  <tbody>\n",
       "    <tr>\n",
       "      <th>0</th>\n",
       "      <td>七股區</td>\n",
       "      <td>21</td>\n",
       "      <td>6979</td>\n",
       "      <td>28</td>\n",
       "      <td>7</td>\n",
       "      <td>2158</td>\n",
       "      <td>0</td>\n",
       "      <td>52</td>\n",
       "      <td>64</td>\n",
       "      <td>31</td>\n",
       "      <td>209</td>\n",
       "      <td>77</td>\n",
       "    </tr>\n",
       "    <tr>\n",
       "      <th>1</th>\n",
       "      <td>下營區</td>\n",
       "      <td>16</td>\n",
       "      <td>4192</td>\n",
       "      <td>14</td>\n",
       "      <td>26</td>\n",
       "      <td>1104</td>\n",
       "      <td>0</td>\n",
       "      <td>36</td>\n",
       "      <td>48</td>\n",
       "      <td>17</td>\n",
       "      <td>141</td>\n",
       "      <td>42</td>\n",
       "    </tr>\n",
       "    <tr>\n",
       "      <th>2</th>\n",
       "      <td>中西區</td>\n",
       "      <td>3492</td>\n",
       "      <td>42895</td>\n",
       "      <td>994</td>\n",
       "      <td>5890</td>\n",
       "      <td>8305</td>\n",
       "      <td>329</td>\n",
       "      <td>920</td>\n",
       "      <td>2271</td>\n",
       "      <td>635</td>\n",
       "      <td>5708</td>\n",
       "      <td>1613</td>\n",
       "    </tr>\n",
       "    <tr>\n",
       "      <th>3</th>\n",
       "      <td>仁德區</td>\n",
       "      <td>305</td>\n",
       "      <td>8448</td>\n",
       "      <td>67</td>\n",
       "      <td>514</td>\n",
       "      <td>1270</td>\n",
       "      <td>8</td>\n",
       "      <td>110</td>\n",
       "      <td>181</td>\n",
       "      <td>49</td>\n",
       "      <td>551</td>\n",
       "      <td>134</td>\n",
       "    </tr>\n",
       "    <tr>\n",
       "      <th>4</th>\n",
       "      <td>佳里區</td>\n",
       "      <td>69</td>\n",
       "      <td>3254</td>\n",
       "      <td>20</td>\n",
       "      <td>69</td>\n",
       "      <td>522</td>\n",
       "      <td>8</td>\n",
       "      <td>32</td>\n",
       "      <td>83</td>\n",
       "      <td>24</td>\n",
       "      <td>375</td>\n",
       "      <td>73</td>\n",
       "    </tr>\n",
       "  </tbody>\n",
       "</table>\n",
       "</div>"
      ],
      "text/plain": [
       "    區別    人數   調查戶數  陽性戶數  調查容器數(戶內)  調查容器數(戶外)  陽性容器數(戶內)  陽性容器數(戶外)  布氏指數  \\\n",
       "0  七股區    21   6979    28          7       2158          0         52    64   \n",
       "1  下營區    16   4192    14         26       1104          0         36    48   \n",
       "2  中西區  3492  42895   994       5890       8305        329        920  2271   \n",
       "3  仁德區   305   8448    67        514       1270          8        110   181   \n",
       "4  佳里區    69   3254    20         69        522          8         32    83   \n",
       "\n",
       "   布氏級數  容器指數  容器級數  \n",
       "0    31   209    77  \n",
       "1    17   141    42  \n",
       "2   635  5708  1613  \n",
       "3    49   551   134  \n",
       "4    24   375    73  "
      ]
     },
     "execution_count": 60,
     "metadata": {},
     "output_type": "execute_result"
    }
   ],
   "source": [
    "df.head() #檢查看看"
   ]
  },
  {
   "cell_type": "markdown",
   "metadata": {},
   "source": [
    "### 由於有些指標資料不可以直接加總，因此我們需要重新計算\n",
    "### 部分指標公式如下：\n",
    "    布氏指數：陽性容器數(戶內+戶外) / 調查戶數 x100\n",
    "    陽性戶數比例：陽性戶數 / 調查戶數 x100"
   ]
  },
  {
   "cell_type": "code",
   "execution_count": 61,
   "metadata": {},
   "outputs": [],
   "source": [
    "df = df.rename({'陽性容器數(戶內)':'陽性容器數_戶內', '陽性容器數(戶外)':'陽性容器數_戶外'}, axis=1) #括號會影響，先重新命名"
   ]
  },
  {
   "cell_type": "code",
   "execution_count": 62,
   "metadata": {},
   "outputs": [],
   "source": [
    "df['比例']=df.陽性戶數*100/df.調查戶數\n",
    "df['陽性容器數']=df.陽性容器數_戶內+df.陽性容器數_戶外\n",
    "df['布氏指數_R']=df.陽性容器數*100/df.調查戶數"
   ]
  },
  {
   "cell_type": "code",
   "execution_count": 63,
   "metadata": {},
   "outputs": [
    {
     "data": {
      "text/html": [
       "<div>\n",
       "<style scoped>\n",
       "    .dataframe tbody tr th:only-of-type {\n",
       "        vertical-align: middle;\n",
       "    }\n",
       "\n",
       "    .dataframe tbody tr th {\n",
       "        vertical-align: top;\n",
       "    }\n",
       "\n",
       "    .dataframe thead th {\n",
       "        text-align: right;\n",
       "    }\n",
       "</style>\n",
       "<table border=\"1\" class=\"dataframe\">\n",
       "  <thead>\n",
       "    <tr style=\"text-align: right;\">\n",
       "      <th></th>\n",
       "      <th>區別</th>\n",
       "      <th>人數</th>\n",
       "      <th>調查戶數</th>\n",
       "      <th>陽性戶數</th>\n",
       "      <th>調查容器數(戶內)</th>\n",
       "      <th>調查容器數(戶外)</th>\n",
       "      <th>陽性容器數_戶內</th>\n",
       "      <th>陽性容器數_戶外</th>\n",
       "      <th>布氏指數</th>\n",
       "      <th>布氏級數</th>\n",
       "      <th>容器指數</th>\n",
       "      <th>容器級數</th>\n",
       "      <th>比例</th>\n",
       "      <th>陽性容器數</th>\n",
       "      <th>布氏指數_R</th>\n",
       "    </tr>\n",
       "  </thead>\n",
       "  <tbody>\n",
       "    <tr>\n",
       "      <th>0</th>\n",
       "      <td>七股區</td>\n",
       "      <td>21</td>\n",
       "      <td>6979</td>\n",
       "      <td>28</td>\n",
       "      <td>7</td>\n",
       "      <td>2158</td>\n",
       "      <td>0</td>\n",
       "      <td>52</td>\n",
       "      <td>64</td>\n",
       "      <td>31</td>\n",
       "      <td>209</td>\n",
       "      <td>77</td>\n",
       "      <td>0.401204</td>\n",
       "      <td>52</td>\n",
       "      <td>0.745092</td>\n",
       "    </tr>\n",
       "    <tr>\n",
       "      <th>1</th>\n",
       "      <td>下營區</td>\n",
       "      <td>16</td>\n",
       "      <td>4192</td>\n",
       "      <td>14</td>\n",
       "      <td>26</td>\n",
       "      <td>1104</td>\n",
       "      <td>0</td>\n",
       "      <td>36</td>\n",
       "      <td>48</td>\n",
       "      <td>17</td>\n",
       "      <td>141</td>\n",
       "      <td>42</td>\n",
       "      <td>0.333969</td>\n",
       "      <td>36</td>\n",
       "      <td>0.858779</td>\n",
       "    </tr>\n",
       "    <tr>\n",
       "      <th>2</th>\n",
       "      <td>中西區</td>\n",
       "      <td>3492</td>\n",
       "      <td>42895</td>\n",
       "      <td>994</td>\n",
       "      <td>5890</td>\n",
       "      <td>8305</td>\n",
       "      <td>329</td>\n",
       "      <td>920</td>\n",
       "      <td>2271</td>\n",
       "      <td>635</td>\n",
       "      <td>5708</td>\n",
       "      <td>1613</td>\n",
       "      <td>2.317286</td>\n",
       "      <td>1249</td>\n",
       "      <td>2.911761</td>\n",
       "    </tr>\n",
       "    <tr>\n",
       "      <th>3</th>\n",
       "      <td>仁德區</td>\n",
       "      <td>305</td>\n",
       "      <td>8448</td>\n",
       "      <td>67</td>\n",
       "      <td>514</td>\n",
       "      <td>1270</td>\n",
       "      <td>8</td>\n",
       "      <td>110</td>\n",
       "      <td>181</td>\n",
       "      <td>49</td>\n",
       "      <td>551</td>\n",
       "      <td>134</td>\n",
       "      <td>0.793087</td>\n",
       "      <td>118</td>\n",
       "      <td>1.396780</td>\n",
       "    </tr>\n",
       "    <tr>\n",
       "      <th>4</th>\n",
       "      <td>佳里區</td>\n",
       "      <td>69</td>\n",
       "      <td>3254</td>\n",
       "      <td>20</td>\n",
       "      <td>69</td>\n",
       "      <td>522</td>\n",
       "      <td>8</td>\n",
       "      <td>32</td>\n",
       "      <td>83</td>\n",
       "      <td>24</td>\n",
       "      <td>375</td>\n",
       "      <td>73</td>\n",
       "      <td>0.614628</td>\n",
       "      <td>40</td>\n",
       "      <td>1.229256</td>\n",
       "    </tr>\n",
       "  </tbody>\n",
       "</table>\n",
       "</div>"
      ],
      "text/plain": [
       "    區別    人數   調查戶數  陽性戶數  調查容器數(戶內)  調查容器數(戶外)  陽性容器數_戶內  陽性容器數_戶外  布氏指數  \\\n",
       "0  七股區    21   6979    28          7       2158         0        52    64   \n",
       "1  下營區    16   4192    14         26       1104         0        36    48   \n",
       "2  中西區  3492  42895   994       5890       8305       329       920  2271   \n",
       "3  仁德區   305   8448    67        514       1270         8       110   181   \n",
       "4  佳里區    69   3254    20         69        522         8        32    83   \n",
       "\n",
       "   布氏級數  容器指數  容器級數        比例  陽性容器數    布氏指數_R  \n",
       "0    31   209    77  0.401204     52  0.745092  \n",
       "1    17   141    42  0.333969     36  0.858779  \n",
       "2   635  5708  1613  2.317286   1249  2.911761  \n",
       "3    49   551   134  0.793087    118  1.396780  \n",
       "4    24   375    73  0.614628     40  1.229256  "
      ]
     },
     "execution_count": 63,
     "metadata": {},
     "output_type": "execute_result"
    }
   ],
   "source": [
    "df.head() #檢查新資料"
   ]
  },
  {
   "cell_type": "markdown",
   "metadata": {},
   "source": [
    "### 開始分析資料"
   ]
  },
  {
   "cell_type": "code",
   "execution_count": 64,
   "metadata": {},
   "outputs": [
    {
     "data": {
      "text/plain": [
       "<matplotlib.collections.PathCollection at 0xc429518>"
      ]
     },
     "execution_count": 64,
     "metadata": {},
     "output_type": "execute_result"
    },
    {
     "data": {
      "image/png": "[encoded data removed]",
      "text/plain": [
       "<Figure size 1440x720 with 1 Axes>"
      ]
     },
     "metadata": {},
     "output_type": "display_data"
    }
   ],
   "source": [
    "y=df.布氏指數_R\n",
    "x=df.比例\n",
    "plt.figure(figsize=(20,10))\n",
    "plt.scatter(x,y)"
   ]
  },
  {
   "cell_type": "markdown",
   "metadata": {},
   "source": [
    "### 可以看到修正後的布氏指數，與陽性戶數略呈線性關係\n",
    "### 我們試著加上回歸直線"
   ]
  },
  {
   "cell_type": "code",
   "execution_count": 65,
   "metadata": {},
   "outputs": [
    {
     "name": "stderr",
     "output_type": "stream",
     "text": [
      "C:\\ProgramData\\Anaconda3\\lib\\site-packages\\ipykernel_launcher.py:1: FutureWarning: Method .as_matrix will be removed in a future version. Use .values instead.\n",
      "  \"\"\"Entry point for launching an IPython kernel.\n"
     ]
    }
   ],
   "source": [
    "X = x.as_matrix()"
   ]
  },
  {
   "cell_type": "code",
   "execution_count": 66,
   "metadata": {},
   "outputs": [
    {
     "data": {
      "text/plain": [
       "[<matplotlib.lines.Line2D at 0xc4547b8>]"
      ]
     },
     "execution_count": 66,
     "metadata": {},
     "output_type": "execute_result"
    },
    {
     "data": {
      "image/png": "[encoded data removed]",
      "text/plain": [
       "<Figure size 1440x720 with 1 Axes>"
      ]
     },
     "metadata": {},
     "output_type": "display_data"
    }
   ],
   "source": [
    "X = X.reshape(len(X),1)\n",
    "regr.fit(X,y)\n",
    "Y = regr.predict(X)\n",
    "plt.figure(figsize=(20,10))\n",
    "plt.scatter(x,y)\n",
    "plt.plot(x,Y,'r')"
   ]
  },
  {
   "cell_type": "markdown",
   "metadata": {},
   "source": [
    "### 效果不錯\n",
    "### 下一步試著分析通報人數與一些指標的關係"
   ]
  },
  {
   "cell_type": "code",
   "execution_count": 67,
   "metadata": {},
   "outputs": [
    {
     "data": {
      "text/plain": [
       "<matplotlib.collections.PathCollection at 0xc7790f0>"
      ]
     },
     "execution_count": 67,
     "metadata": {},
     "output_type": "execute_result"
    },
    {
     "data": {
      "image/png": "[encoded data removed]",
      "text/plain": [
       "<Figure size 1440x720 with 1 Axes>"
      ]
     },
     "metadata": {},
     "output_type": "display_data"
    }
   ],
   "source": [
    "x=df.人數\n",
    "y=df.布氏指數_R\n",
    "plt.figure(figsize=(20,10))\n",
    "plt.scatter(x,y)"
   ]
  },
  {
   "cell_type": "markdown",
   "metadata": {},
   "source": [
    "### 看起來各區域的通報人數差異過大，並無法看出顯著的關係\n",
    "### 試著對人數取對數看看"
   ]
  },
  {
   "cell_type": "code",
   "execution_count": 68,
   "metadata": {},
   "outputs": [
    {
     "data": {
      "text/plain": [
       "<matplotlib.collections.PathCollection at 0xc7d0550>"
      ]
     },
     "execution_count": 68,
     "metadata": {},
     "output_type": "execute_result"
    },
    {
     "data": {
      "image/png": "[encoded data removed]",
      "text/plain": [
       "<Figure size 1440x720 with 1 Axes>"
      ]
     },
     "metadata": {},
     "output_type": "display_data"
    }
   ],
   "source": [
    "x=np.log(df.人數)\n",
    "y=df.布氏指數_R\n",
    "plt.figure(figsize=(20,10))\n",
    "plt.scatter(x,y)"
   ]
  },
  {
   "cell_type": "markdown",
   "metadata": {},
   "source": [
    "### 看起來還是很不好\n",
    "### 換一個指標來分析看看"
   ]
  },
  {
   "cell_type": "code",
   "execution_count": 70,
   "metadata": {},
   "outputs": [
    {
     "data": {
      "text/plain": [
       "<matplotlib.collections.PathCollection at 0xf236dd8>"
      ]
     },
     "execution_count": 70,
     "metadata": {},
     "output_type": "execute_result"
    },
    {
     "data": {
      "image/png": "[encoded data removed]",
      "text/plain": [
       "<Figure size 1440x720 with 1 Axes>"
      ]
     },
     "metadata": {},
     "output_type": "display_data"
    }
   ],
   "source": [
    "x=df.人數\n",
    "y=df.陽性容器數\n",
    "plt.figure(figsize=(20,10))\n",
    "plt.scatter(x,y)"
   ]
  },
  {
   "cell_type": "markdown",
   "metadata": {},
   "source": [
    "### 比剛才好一點點，試著畫看看回歸直線"
   ]
  },
  {
   "cell_type": "code",
   "execution_count": 71,
   "metadata": {},
   "outputs": [
    {
     "name": "stderr",
     "output_type": "stream",
     "text": [
      "C:\\ProgramData\\Anaconda3\\lib\\site-packages\\ipykernel_launcher.py:1: FutureWarning: Method .as_matrix will be removed in a future version. Use .values instead.\n",
      "  \"\"\"Entry point for launching an IPython kernel.\n"
     ]
    },
    {
     "data": {
      "text/plain": [
       "[<matplotlib.lines.Line2D at 0xf4f2208>]"
      ]
     },
     "execution_count": 71,
     "metadata": {},
     "output_type": "execute_result"
    },
    {
     "data": {
      "image/png": "[encoded data removed]",
      "text/plain": [
       "<Figure size 1440x720 with 1 Axes>"
      ]
     },
     "metadata": {},
     "output_type": "display_data"
    }
   ],
   "source": [
    "X = x.as_matrix()\n",
    "X = X.reshape(len(X),1)\n",
    "regr.fit(X,y)\n",
    "Y = regr.predict(X)\n",
    "plt.figure(figsize=(20,10))\n",
    "plt.scatter(x,y)\n",
    "plt.plot(x,Y,'r')"
   ]
  },
  {
   "cell_type": "markdown",
   "metadata": {},
   "source": [
    "### 看來通報人數與陽性容器數有一定程度的關係"
   ]
  },
  {
   "cell_type": "markdown",
   "metadata": {},
   "source": [
    "### 結語：104年台南市的登革熱疫情十分嚴重，希望可以從這次的分析中，觀察到一些衛生方面必須注意的事項。從平時的環境改善著手，或許未來夏季就可以降低登革熱帶來的影響。"
   ]
  },
  {
   "cell_type": "code",
   "execution_count": null,
   "metadata": {},
   "outputs": [],
   "source": []
  }
 ],
 "metadata": {
  "kernelspec": {
   "display_name": "Python 3",
   "language": "python",
   "name": "python3"
  },
  "language_info": {
   "codemirror_mode": {
    "name": "ipython",
    "version": 3
   },
   "file_extension": ".py",
   "mimetype": "text/x-python",
   "name": "python",
   "nbconvert_exporter": "python",
   "pygments_lexer": "ipython3",
   "version": "3.6.5"
  }
 },
 "nbformat": 4,
 "nbformat_minor": 2
}
