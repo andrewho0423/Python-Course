{
 "cells": [
  {
   "cell_type": "code",
   "execution_count": 178,
   "metadata": {},
   "outputs": [
    {
     "name": "stdout",
     "output_type": "stream",
     "text": [
      "Liner Feedback Shift Register:產生由0與1組成的隨機序列\n",
      "Input:LFSR(charpoly,x0,c)\n",
      "Output:0與1組成的隨機序列\n",
      "charploy:請以np.poly1d輸入一個係數∈{0,1}，且常數項不為0的的多項式\n",
      "x0:請輸入一個由{0,1}組成，長度為多項式項數-1的array作為初始值\n",
      "c:請輸入任意正整數\n"
     ]
    }
   ],
   "source": [
    "import numpy as np\n",
    "import math\n",
    "print(\"Liner Feedback Shift Register:產生由0與1組成的隨機序列\")\n",
    "print(\"Input:LFSR(charpoly,x0,c)\")\n",
    "print(\"Output:0與1組成的隨機序列\")\n",
    "print(\"charploy:請以np.poly1d輸入一個係數∈{0,1}，且常數項不為0的的多項式\")\n",
    "print(\"x0:請輸入一個由{0,1}組成，長度為多項式項數-1的array作為初始值\")\n",
    "print(\"c:請輸入任意正整數\")\n",
    "\n",
    "\n",
    "def LFSR(charpoly,x0,c):\n",
    "    lp=len(charpoly.c)\n",
    "    lx=len(x0)\n",
    "    if c<=0 or isinstance(c, int)==False:\n",
    "        return(\"Please input a positive integer.\")\n",
    "    else:\n",
    "        A=np.zeros((c+1,lx+1)).astype(int)\n",
    "        if charpoly.c[lp-1]==0:\n",
    "            return(\"The constant term is wrong.\")\n",
    "        else:\n",
    "            if lp!=lx+1:\n",
    "                return(\"The length of initial data is wrong.\")\n",
    "            else:\n",
    "                for i in range(0,lp):\n",
    "                    if charpoly.c[i]!=0 and charpoly.c[i]!=1:\n",
    "                        return(\"Some coefficients are wrong.\")\n",
    "                    else:\n",
    "                        if np.sum(x0)==0:\n",
    "                            return(\"Invalid initial array.\")\n",
    "                        else:\n",
    "                            for j in range(0,lx):\n",
    "                                if x0[j]!=0 and x0[j]!=1:\n",
    "                                    return(\"The initial array is wrong.\")\n",
    "                                else:\n",
    "                                    for k in range(0,c+1):\n",
    "                                        for m in range(0,lx+1):\n",
    "                                            if k == 0:\n",
    "                                                A[k][0:lx]=x0\n",
    "                                            else:\n",
    "                                                if m==0:\n",
    "                                                    A[k][m]=(np.inner(charpoly.c[0:lp-1],A[k-1][0:lx])+1) % 2\n",
    "                                                else:\n",
    "                                                    A[k][m]=A[k-1][m-1]\n",
    "                                            \n",
    "    \n",
    "    print(A[1:c+1,lx])"
   ]
  },
  {
   "cell_type": "code",
   "execution_count": null,
   "metadata": {},
   "outputs": [],
   "source": []
  }
 ],
 "metadata": {
  "kernelspec": {
   "display_name": "Python 3",
   "language": "python",
   "name": "python3"
  },
  "language_info": {
   "codemirror_mode": {
    "name": "ipython",
    "version": 3
   },
   "file_extension": ".py",
   "mimetype": "text/x-python",
   "name": "python",
   "nbconvert_exporter": "python",
   "pygments_lexer": "ipython3",
   "version": "3.6.5"
  }
 },
 "nbformat": 4,
 "nbformat_minor": 2
}
