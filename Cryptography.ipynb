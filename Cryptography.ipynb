{
 "cells": [
  {
   "cell_type": "code",
   "execution_count": 35,
   "metadata": {},
   "outputs": [],
   "source": [
    "import numpy as np\n",
    "import pandas as pd\n",
    "from collections import defaultdict, Counter\n",
    "from tqdm import tqdm_notebook\n",
    "\n",
    "%matplotlib inline\n",
    "import matplotlib.pyplot as plt"
   ]
  },
  {
   "cell_type": "markdown",
   "metadata": {},
   "source": [
    "### 讀取plaintext"
   ]
  },
  {
   "cell_type": "code",
   "execution_count": 3,
   "metadata": {},
   "outputs": [
    {
     "data": {
      "text/html": [
       "<div>\n",
       "<style scoped>\n",
       "    .dataframe tbody tr th:only-of-type {\n",
       "        vertical-align: middle;\n",
       "    }\n",
       "\n",
       "    .dataframe tbody tr th {\n",
       "        vertical-align: top;\n",
       "    }\n",
       "\n",
       "    .dataframe thead th {\n",
       "        text-align: right;\n",
       "    }\n",
       "</style>\n",
       "<table border=\"1\" class=\"dataframe\">\n",
       "  <thead>\n",
       "    <tr style=\"text-align: right;\">\n",
       "      <th></th>\n",
       "      <th>plaintext_id</th>\n",
       "      <th>text</th>\n",
       "      <th>length</th>\n",
       "      <th>length_100</th>\n",
       "    </tr>\n",
       "    <tr>\n",
       "      <th>index</th>\n",
       "      <th></th>\n",
       "      <th></th>\n",
       "      <th></th>\n",
       "      <th></th>\n",
       "    </tr>\n",
       "  </thead>\n",
       "  <tbody>\n",
       "    <tr>\n",
       "      <th>0</th>\n",
       "      <td>ID_b3cc83f06</td>\n",
       "      <td>This movie is one of the very best Christmas m...</td>\n",
       "      <td>258</td>\n",
       "      <td>300</td>\n",
       "    </tr>\n",
       "    <tr>\n",
       "      <th>1</th>\n",
       "      <td>ID_3cb7f9fbd</td>\n",
       "      <td>Would love to see them release the show to a D...</td>\n",
       "      <td>671</td>\n",
       "      <td>700</td>\n",
       "    </tr>\n",
       "    <tr>\n",
       "      <th>2</th>\n",
       "      <td>ID_d7606215e</td>\n",
       "      <td>Sure, this is a B Movie but it is moody and cr...</td>\n",
       "      <td>770</td>\n",
       "      <td>800</td>\n",
       "    </tr>\n",
       "    <tr>\n",
       "      <th>3</th>\n",
       "      <td>ID_5d6dda9af</td>\n",
       "      <td>Forget the previous comment by the inknowleagi...</td>\n",
       "      <td>805</td>\n",
       "      <td>900</td>\n",
       "    </tr>\n",
       "    <tr>\n",
       "      <th>4</th>\n",
       "      <td>ID_21e645a25</td>\n",
       "      <td>I taped this masterpiece from the TV about 3 t...</td>\n",
       "      <td>552</td>\n",
       "      <td>600</td>\n",
       "    </tr>\n",
       "  </tbody>\n",
       "</table>\n",
       "</div>"
      ],
      "text/plain": [
       "       plaintext_id                                               text  \\\n",
       "index                                                                    \n",
       "0      ID_b3cc83f06  This movie is one of the very best Christmas m...   \n",
       "1      ID_3cb7f9fbd  Would love to see them release the show to a D...   \n",
       "2      ID_d7606215e  Sure, this is a B Movie but it is moody and cr...   \n",
       "3      ID_5d6dda9af  Forget the previous comment by the inknowleagi...   \n",
       "4      ID_21e645a25  I taped this masterpiece from the TV about 3 t...   \n",
       "\n",
       "       length  length_100  \n",
       "index                      \n",
       "0         258         300  \n",
       "1         671         700  \n",
       "2         770         800  \n",
       "3         805         900  \n",
       "4         552         600  "
      ]
     },
     "execution_count": 3,
     "metadata": {},
     "output_type": "execute_result"
    }
   ],
   "source": [
    "train = pd.read_csv('C:/Users/USER/Desktop/training.csv', index_col='index')\n",
    "# create a column for the length of the plaintext and a column for the padded length\n",
    "train['length'] = train['text'].apply(lambda x: len(x))\n",
    "train['length_100'] = (np.ceil(train['length'] / 100) * 100).astype(int)\n",
    "# take a look of plaintext data\n",
    "train.head()"
   ]
  },
  {
   "cell_type": "markdown",
   "metadata": {},
   "source": [
    "### 讀取ciphertext"
   ]
  },
  {
   "cell_type": "code",
   "execution_count": 4,
   "metadata": {},
   "outputs": [],
   "source": [
    "test = pd.read_csv('C:/Users/USER/Desktop/test.csv')\n",
    "test['length'] = test['ciphertext'].apply(lambda x: len(x))"
   ]
  },
  {
   "cell_type": "markdown",
   "metadata": {},
   "source": [
    "# 破解難度1"
   ]
  },
  {
   "cell_type": "code",
   "execution_count": 5,
   "metadata": {},
   "outputs": [
    {
     "data": {
      "text/plain": [
       "length_100\n",
       "6100     9\n",
       "6300     4\n",
       "6400     3\n",
       "6600     3\n",
       "7200     3\n",
       "7300     1\n",
       "7700     1\n",
       "8500     1\n",
       "14200    1\n",
       "Name: text, dtype: int64"
      ]
     },
     "execution_count": 5,
     "metadata": {},
     "output_type": "execute_result"
    }
   ],
   "source": [
    "# select difficulty 1 ciphertexts\n",
    "diff1 = test[test['difficulty'] == 1]\n",
    "# group the ciphertexts by length & sort the values \n",
    "lengths = diff1.groupby('length')['ciphertext'].count().sort_values()\n",
    "# search for those cipher lengths that only appears once\n",
    "rare_lengths =  lengths[lengths == 1].index\n",
    "# match them with the plaintext and count how many times we found a plaintext matching the length of the ciphertexts\n",
    "train[train['length_100'].isin(rare_lengths)].groupby('length_100')['text'].count()"
   ]
  },
  {
   "cell_type": "markdown",
   "metadata": {},
   "source": [
    "### 有4組一對一的明文密文，長度分別為7300, 7700, 8500, 14200"
   ]
  },
  {
   "cell_type": "code",
   "execution_count": 6,
   "metadata": {},
   "outputs": [
    {
     "data": {
      "text/html": [
       "<div>\n",
       "<style scoped>\n",
       "    .dataframe tbody tr th:only-of-type {\n",
       "        vertical-align: middle;\n",
       "    }\n",
       "\n",
       "    .dataframe tbody tr th {\n",
       "        vertical-align: top;\n",
       "    }\n",
       "\n",
       "    .dataframe thead th {\n",
       "        text-align: right;\n",
       "    }\n",
       "</style>\n",
       "<table border=\"1\" class=\"dataframe\">\n",
       "  <thead>\n",
       "    <tr style=\"text-align: right;\">\n",
       "      <th></th>\n",
       "      <th>plaintext_id</th>\n",
       "      <th>text</th>\n",
       "      <th>length</th>\n",
       "      <th>length_100</th>\n",
       "    </tr>\n",
       "    <tr>\n",
       "      <th>index</th>\n",
       "      <th></th>\n",
       "      <th></th>\n",
       "      <th></th>\n",
       "      <th></th>\n",
       "    </tr>\n",
       "  </thead>\n",
       "  <tbody>\n",
       "    <tr>\n",
       "      <th>20455</th>\n",
       "      <td>ID_4929f84c6</td>\n",
       "      <td>With a new \"Spider-Man\" movie due out this May...</td>\n",
       "      <td>7286</td>\n",
       "      <td>7300</td>\n",
       "    </tr>\n",
       "    <tr>\n",
       "      <th>42847</th>\n",
       "      <td>ID_92319e9a4</td>\n",
       "      <td>***SPOILERS*** ***SPOILERS*** Getting the intr...</td>\n",
       "      <td>7601</td>\n",
       "      <td>7700</td>\n",
       "    </tr>\n",
       "    <tr>\n",
       "      <th>30914</th>\n",
       "      <td>ID_3de4e5b31</td>\n",
       "      <td>\"The Battle of Shaker Heights\" is the second o...</td>\n",
       "      <td>8442</td>\n",
       "      <td>8500</td>\n",
       "    </tr>\n",
       "    <tr>\n",
       "      <th>7533</th>\n",
       "      <td>ID_2f72f6bfb</td>\n",
       "      <td>***SPOILERS*** ***SPOILERS*** The first Godzil...</td>\n",
       "      <td>14126</td>\n",
       "      <td>14200</td>\n",
       "    </tr>\n",
       "  </tbody>\n",
       "</table>\n",
       "</div>"
      ],
      "text/plain": [
       "       plaintext_id                                               text  \\\n",
       "index                                                                    \n",
       "20455  ID_4929f84c6  With a new \"Spider-Man\" movie due out this May...   \n",
       "42847  ID_92319e9a4  ***SPOILERS*** ***SPOILERS*** Getting the intr...   \n",
       "30914  ID_3de4e5b31  \"The Battle of Shaker Heights\" is the second o...   \n",
       "7533   ID_2f72f6bfb  ***SPOILERS*** ***SPOILERS*** The first Godzil...   \n",
       "\n",
       "       length  length_100  \n",
       "index                      \n",
       "20455    7286        7300  \n",
       "42847    7601        7700  \n",
       "30914    8442        8500  \n",
       "7533    14126       14200  "
      ]
     },
     "execution_count": 6,
     "metadata": {},
     "output_type": "execute_result"
    }
   ],
   "source": [
    "matches = [7300, 7700, 8500, 14200]\n",
    "train[train['length_100'].isin(matches)].sort_values('length_100')"
   ]
  },
  {
   "cell_type": "code",
   "execution_count": 7,
   "metadata": {},
   "outputs": [
    {
     "data": {
      "text/html": [
       "<div>\n",
       "<style scoped>\n",
       "    .dataframe tbody tr th:only-of-type {\n",
       "        vertical-align: middle;\n",
       "    }\n",
       "\n",
       "    .dataframe tbody tr th {\n",
       "        vertical-align: top;\n",
       "    }\n",
       "\n",
       "    .dataframe thead th {\n",
       "        text-align: right;\n",
       "    }\n",
       "</style>\n",
       "<table border=\"1\" class=\"dataframe\">\n",
       "  <thead>\n",
       "    <tr style=\"text-align: right;\">\n",
       "      <th></th>\n",
       "      <th>ciphertext_id</th>\n",
       "      <th>ciphertext</th>\n",
       "      <th>difficulty</th>\n",
       "      <th>length</th>\n",
       "    </tr>\n",
       "  </thead>\n",
       "  <tbody>\n",
       "    <tr>\n",
       "      <th>25841</th>\n",
       "      <td>ID_a6ecf7480</td>\n",
       "      <td>d$f8Gsxf!x[7472l}7bed!=lQnJ42b7Cv#!l7=yl7vyx7x...</td>\n",
       "      <td>1</td>\n",
       "      <td>7300</td>\n",
       "    </tr>\n",
       "    <tr>\n",
       "      <th>15989</th>\n",
       "      <td>ID_671657397</td>\n",
       "      <td>P7T2e3gy9bwGjXDwm.OM8M8x8jbL!1}4amZRe\"d-MTa[:o...</td>\n",
       "      <td>1</td>\n",
       "      <td>7700</td>\n",
       "    </tr>\n",
       "    <tr>\n",
       "      <th>23193</th>\n",
       "      <td>ID_a7cd22539</td>\n",
       "      <td>F-{O}'*0T=I2 p9IW#B)TE[\"cWX]\"b/[l7*4xxOl7vz7e[...</td>\n",
       "      <td>1</td>\n",
       "      <td>8500</td>\n",
       "    </tr>\n",
       "    <tr>\n",
       "      <th>30578</th>\n",
       "      <td>ID_2462482ff</td>\n",
       "      <td>quaZ!)Y*bu/ Mfl8Owj]H\" sj iv4khC1ZzhbIIIe'ZaG ...</td>\n",
       "      <td>1</td>\n",
       "      <td>14200</td>\n",
       "    </tr>\n",
       "  </tbody>\n",
       "</table>\n",
       "</div>"
      ],
      "text/plain": [
       "      ciphertext_id                                         ciphertext  \\\n",
       "25841  ID_a6ecf7480  d$f8Gsxf!x[7472l}7bed!=lQnJ42b7Cv#!l7=yl7vyx7x...   \n",
       "15989  ID_671657397  P7T2e3gy9bwGjXDwm.OM8M8x8jbL!1}4amZRe\"d-MTa[:o...   \n",
       "23193  ID_a7cd22539  F-{O}'*0T=I2 p9IW#B)TE[\"cWX]\"b/[l7*4xxOl7vz7e[...   \n",
       "30578  ID_2462482ff  quaZ!)Y*bu/ Mfl8Owj]H\" sj iv4khC1ZzhbIIIe'ZaG ...   \n",
       "\n",
       "       difficulty  length  \n",
       "25841           1    7300  \n",
       "15989           1    7700  \n",
       "23193           1    8500  \n",
       "30578           1   14200  "
      ]
     },
     "execution_count": 7,
     "metadata": {},
     "output_type": "execute_result"
    }
   ],
   "source": [
    "diff1[diff1['length'].isin(matches)].sort_values('length')"
   ]
  },
  {
   "cell_type": "markdown",
   "metadata": {},
   "source": [
    "### 做頻率分析（明文）"
   ]
  },
  {
   "cell_type": "code",
   "execution_count": 8,
   "metadata": {},
   "outputs": [
    {
     "data": {
      "image/png": "[encoded data removed]",
      "text/plain": [
       "<Figure size 360x1080 with 1 Axes>"
      ]
     },
     "metadata": {},
     "output_type": "display_data"
    }
   ],
   "source": [
    "# Count occurences of charcters in the train plaintext\n",
    "plain_char_cntr = Counter(''.join(train[train.plaintext_id=='ID_4929f84c6']['text'].values))\n",
    "# new dataframe with frequency and letter\n",
    "plain_stats = pd.DataFrame([[x[0], x[1]] for x in plain_char_cntr.items()], columns=['Letter', 'Frequency'])\n",
    "# sort dataframe on occurence of frequency\n",
    "plain_stats = plain_stats.sort_values(by='Frequency', ascending=True)\n",
    "\n",
    "# plot\n",
    "f, ax = plt.subplots(figsize=(5, 15))\n",
    "plt.barh(np.array(range(len(plain_stats))) + 0.5, plain_stats['Frequency'].values)\n",
    "plt.yticks(np.array(range(len(plain_stats))) + 0.5, plain_stats['Letter'].values)\n",
    "plt.show()"
   ]
  },
  {
   "cell_type": "markdown",
   "metadata": {},
   "source": [
    "### 做頻率分析（密文）"
   ]
  },
  {
   "cell_type": "code",
   "execution_count": 9,
   "metadata": {},
   "outputs": [
    {
     "data": {
      "image/png": "[encoded data removed]",
      "text/plain": [
       "<Figure size 360x1080 with 1 Axes>"
      ]
     },
     "metadata": {},
     "output_type": "display_data"
    }
   ],
   "source": [
    "cipher_char_cntr = Counter(''.join(test[test['ciphertext_id'] == 'ID_a6ecf7480']['ciphertext'].values))\n",
    "cipher_stats = pd.DataFrame([[x[0], x[1]] for x in cipher_char_cntr.items()], columns=['Letter', 'Frequency'])\n",
    "cipher_stats = cipher_stats.sort_values(by='Frequency', ascending=True)\n",
    "\n",
    "f, ax = plt.subplots(figsize=(5, 15))\n",
    "plt.barh(np.array(range(len(cipher_stats))) + 0.5, cipher_stats['Frequency'].values)\n",
    "plt.yticks(np.array(range(len(cipher_stats))) + 0.5, cipher_stats['Letter'].values)\n",
    "plt.show()"
   ]
  },
  {
   "cell_type": "markdown",
   "metadata": {},
   "source": [
    "### 經過分析，此為基本的替換式加密\n",
    "### 將字母依頻率配對"
   ]
  },
  {
   "cell_type": "code",
   "execution_count": 10,
   "metadata": {},
   "outputs": [
    {
     "data": {
      "text/html": [
       "<div>\n",
       "<style scoped>\n",
       "    .dataframe tbody tr th:only-of-type {\n",
       "        vertical-align: middle;\n",
       "    }\n",
       "\n",
       "    .dataframe tbody tr th {\n",
       "        vertical-align: top;\n",
       "    }\n",
       "\n",
       "    .dataframe thead th {\n",
       "        text-align: right;\n",
       "    }\n",
       "</style>\n",
       "<table border=\"1\" class=\"dataframe\">\n",
       "  <thead>\n",
       "    <tr style=\"text-align: right;\">\n",
       "      <th></th>\n",
       "      <th>Letter_x</th>\n",
       "      <th>Frequency</th>\n",
       "      <th>Letter_y</th>\n",
       "    </tr>\n",
       "  </thead>\n",
       "  <tbody>\n",
       "    <tr>\n",
       "      <th>197</th>\n",
       "      <td></td>\n",
       "      <td>1286</td>\n",
       "      <td>7</td>\n",
       "    </tr>\n",
       "    <tr>\n",
       "      <th>196</th>\n",
       "      <td>e</td>\n",
       "      <td>679</td>\n",
       "      <td>l</td>\n",
       "    </tr>\n",
       "    <tr>\n",
       "      <th>195</th>\n",
       "      <td>a</td>\n",
       "      <td>445</td>\n",
       "      <td>4</td>\n",
       "    </tr>\n",
       "    <tr>\n",
       "      <th>194</th>\n",
       "      <td>i</td>\n",
       "      <td>444</td>\n",
       "      <td>!</td>\n",
       "    </tr>\n",
       "    <tr>\n",
       "      <th>193</th>\n",
       "      <td>o</td>\n",
       "      <td>390</td>\n",
       "      <td>v</td>\n",
       "    </tr>\n",
       "    <tr>\n",
       "      <th>192</th>\n",
       "      <td>s</td>\n",
       "      <td>379</td>\n",
       "      <td>o</td>\n",
       "    </tr>\n",
       "    <tr>\n",
       "      <th>191</th>\n",
       "      <td>n</td>\n",
       "      <td>363</td>\n",
       "      <td>2</td>\n",
       "    </tr>\n",
       "    <tr>\n",
       "      <th>190</th>\n",
       "      <td>h</td>\n",
       "      <td>325</td>\n",
       "      <td>[</td>\n",
       "    </tr>\n",
       "    <tr>\n",
       "      <th>189</th>\n",
       "      <td>r</td>\n",
       "      <td>321</td>\n",
       "      <td>Q</td>\n",
       "    </tr>\n",
       "    <tr>\n",
       "      <th>188</th>\n",
       "      <td>l</td>\n",
       "      <td>269</td>\n",
       "      <td>O</td>\n",
       "    </tr>\n",
       "    <tr>\n",
       "      <th>187</th>\n",
       "      <td>d</td>\n",
       "      <td>175</td>\n",
       "      <td>=</td>\n",
       "    </tr>\n",
       "    <tr>\n",
       "      <th>186</th>\n",
       "      <td>c</td>\n",
       "      <td>165</td>\n",
       "      <td>,</td>\n",
       "    </tr>\n",
       "    <tr>\n",
       "      <th>185</th>\n",
       "      <td>m</td>\n",
       "      <td>154</td>\n",
       "      <td>C</td>\n",
       "    </tr>\n",
       "    <tr>\n",
       "      <th>184</th>\n",
       "      <td>u</td>\n",
       "      <td>152</td>\n",
       "      <td>y</td>\n",
       "    </tr>\n",
       "    <tr>\n",
       "      <th>183</th>\n",
       "      <td>f</td>\n",
       "      <td>123</td>\n",
       "      <td>z</td>\n",
       "    </tr>\n",
       "    <tr>\n",
       "      <th>182</th>\n",
       "      <td>y</td>\n",
       "      <td>106</td>\n",
       "      <td>V</td>\n",
       "    </tr>\n",
       "    <tr>\n",
       "      <th>181</th>\n",
       "      <td>,</td>\n",
       "      <td>96</td>\n",
       "      <td>(</td>\n",
       "    </tr>\n",
       "    <tr>\n",
       "      <th>180</th>\n",
       "      <td>w</td>\n",
       "      <td>94</td>\n",
       "      <td>}</td>\n",
       "    </tr>\n",
       "    <tr>\n",
       "      <th>179</th>\n",
       "      <td>g</td>\n",
       "      <td>88</td>\n",
       "      <td>:</td>\n",
       "    </tr>\n",
       "    <tr>\n",
       "      <th>178</th>\n",
       "      <td>b</td>\n",
       "      <td>67</td>\n",
       "      <td>F</td>\n",
       "    </tr>\n",
       "  </tbody>\n",
       "</table>\n",
       "</div>"
      ],
      "text/plain": [
       "    Letter_x  Frequency Letter_y\n",
       "197                1286        7\n",
       "196        e        679        l\n",
       "195        a        445        4\n",
       "194        i        444        !\n",
       "193        o        390        v\n",
       "192        s        379        o\n",
       "191        n        363        2\n",
       "190        h        325        [\n",
       "189        r        321        Q\n",
       "188        l        269        O\n",
       "187        d        175        =\n",
       "186        c        165        ,\n",
       "185        m        154        C\n",
       "184        u        152        y\n",
       "183        f        123        z\n",
       "182        y        106        V\n",
       "181        ,         96        (\n",
       "180        w         94        }\n",
       "179        g         88        :\n",
       "178        b         67        F"
      ]
     },
     "execution_count": 10,
     "metadata": {},
     "output_type": "execute_result"
    }
   ],
   "source": [
    "# merge plaintext frequency stats together with the ciphertext stats based on the Frequency scores\n",
    "freq_alphabet = pd.merge(plain_stats, cipher_stats, on=['Frequency'])\n",
    "# sort dataframe on frequency score\n",
    "freq_alphabet = freq_alphabet.sort_values(by='Frequency', ascending=False)\n",
    "# print first 20 rows of this dataframe\n",
    "freq_alphabet.head(20)"
   ]
  },
  {
   "cell_type": "markdown",
   "metadata": {},
   "source": [
    "### 手動修正並列出字母對應表"
   ]
  },
  {
   "cell_type": "code",
   "execution_count": 11,
   "metadata": {},
   "outputs": [],
   "source": [
    "cipher = \"\"\"7lx4v!2oQ[O=,yCzV:}dFX#(Wak/bqne*JApK{cmf6 GZDj9gT\\'\"YSHiE]5)81hMNwI@P?Us%;30uBrLR-.$t\"\"\"\n",
    "plain =  \"\"\" etaoinsrhldcumfygwpb.v,kI\\'T\"A-SBMxDHj)CW(ELORN!FGPJz0qK?1VY:U92/3*5;478QZ6X%$}#@={[]\"\"\""
   ]
  },
  {
   "cell_type": "markdown",
   "metadata": {},
   "source": [
    "### 建立加密／解密演算法"
   ]
  },
  {
   "cell_type": "code",
   "execution_count": 12,
   "metadata": {},
   "outputs": [],
   "source": [
    "decrypt_mapping = {}\n",
    "encrypt_mapping = {}\n",
    "for i, j in zip(cipher,plain):\n",
    "    decrypt_mapping[ord(i)] = ord(j)\n",
    "    encrypt_mapping[ord(j)] = ord(i)\n",
    "\n",
    "def encrypt_step1(x):\n",
    "    return x.translate(encrypt_mapping)\n",
    "\n",
    "def decrypt_step1(x):\n",
    "    return x.translate(decrypt_mapping)"
   ]
  },
  {
   "cell_type": "code",
   "execution_count": 13,
   "metadata": {},
   "outputs": [
    {
     "name": "stdout",
     "output_type": "stream",
     "text": [
      "#:j4[:gPlM3x6\"E)AXm,tU-lP2xgRzI cannot imagine Woody Allen creating a film worse than September. Never has a film been more stagy - Allen must have intended that feeling, but only God knows why. The direction is poor in every way. The dialogue is God awful, often laughable, and the acting is just as bad. Mia Farrow and Dianne Wiest turn in what must be their worst performances. Sam Waterston is ineffective. The two parents (whose names I cannot even recall) seem like their in a different movie - a Woody Allen film. Their delivery is wry and often good, at least it would be if it belonged here. None of the characters ever ring true - never.  What's really sad is that there is a good story underneath this terrible train wreck of a film. Lane's situation and her relationship with the other characters could have been fascinating. Unfortunately, the events of the past are introduced is such a poor way, the same way a really bad play would do it, that they never really seem important. Allen wanted desperately to make a Bergmaesque chamber piece, but Bergman is smart enough to have the outside world exist in his similar films, Persona, for instance.  If you are an Allen fan, then this one is worth seeing - an artist's bad work is nearly as important as his great work. Just be prepared for something utterly awful - at least it's only 82 minutes long. 4/10$Ua:[@:U]n:,;}Yi6DMkjLcC4;?LP!@\n"
     ]
    }
   ],
   "source": [
    "# Here is an example\n",
    "cipher = test[(test['difficulty'] == 1)].sample(1).iloc[0, :]['ciphertext']\n",
    "print(decrypt_step1(cipher))"
   ]
  },
  {
   "cell_type": "markdown",
   "metadata": {},
   "source": [
    "# 破解難度2"
   ]
  },
  {
   "cell_type": "markdown",
   "metadata": {},
   "source": [
    "### 將明文加密至難度1"
   ]
  },
  {
   "cell_type": "code",
   "execution_count": 14,
   "metadata": {},
   "outputs": [
    {
     "data": {
      "text/html": [
       "<div>\n",
       "<style scoped>\n",
       "    .dataframe tbody tr th:only-of-type {\n",
       "        vertical-align: middle;\n",
       "    }\n",
       "\n",
       "    .dataframe tbody tr th {\n",
       "        vertical-align: top;\n",
       "    }\n",
       "\n",
       "    .dataframe thead th {\n",
       "        text-align: right;\n",
       "    }\n",
       "</style>\n",
       "<table border=\"1\" class=\"dataframe\">\n",
       "  <thead>\n",
       "    <tr style=\"text-align: right;\">\n",
       "      <th></th>\n",
       "      <th>plaintext_id</th>\n",
       "      <th>text</th>\n",
       "      <th>length</th>\n",
       "      <th>length_100</th>\n",
       "      <th>cipher1</th>\n",
       "    </tr>\n",
       "    <tr>\n",
       "      <th>index</th>\n",
       "      <th></th>\n",
       "      <th></th>\n",
       "      <th></th>\n",
       "      <th></th>\n",
       "      <th></th>\n",
       "    </tr>\n",
       "  </thead>\n",
       "  <tbody>\n",
       "    <tr>\n",
       "      <th>0</th>\n",
       "      <td>ID_b3cc83f06</td>\n",
       "      <td>This movie is one of the very best Christmas m...</td>\n",
       "      <td>258</td>\n",
       "      <td>300</td>\n",
       "      <td>/[!o7Cv#!l7!o7v2l7vz7x[l7#lQV7Flox7m[Q!oxC4o7C...</td>\n",
       "    </tr>\n",
       "    <tr>\n",
       "      <th>1</th>\n",
       "      <td>ID_3cb7f9fbd</td>\n",
       "      <td>Would love to see them release the show to a D...</td>\n",
       "      <td>671</td>\n",
       "      <td>700</td>\n",
       "      <td>fvyO=7Ov#l7xv7oll7x[lC7QlOl4ol7x[l7o[v}7xv747p...</td>\n",
       "    </tr>\n",
       "    <tr>\n",
       "      <th>2</th>\n",
       "      <td>ID_d7606215e</td>\n",
       "      <td>Sure, this is a B Movie but it is moody and cr...</td>\n",
       "      <td>770</td>\n",
       "      <td>800</td>\n",
       "      <td>eyQl(7x[!o7!o747*7Jv#!l7Fyx7!x7!o7Cvv=V742=7,Q...</td>\n",
       "    </tr>\n",
       "    <tr>\n",
       "      <th>3</th>\n",
       "      <td>ID_5d6dda9af</td>\n",
       "      <td>Forget the previous comment by the inknowleagi...</td>\n",
       "      <td>805</td>\n",
       "      <td>900</td>\n",
       "      <td>gvQ:lx7x[l7dQl#!vyo7,vCCl2x7FV7x[l7!2W2v}Ol4:!...</td>\n",
       "    </tr>\n",
       "    <tr>\n",
       "      <th>4</th>\n",
       "      <td>ID_21e645a25</td>\n",
       "      <td>I taped this masterpiece from the TV about 3 t...</td>\n",
       "      <td>552</td>\n",
       "      <td>600</td>\n",
       "      <td>a7x4dl=7x[!o7C4oxlQd!l,l7zQvC7x[l7/574Fvyx7w7x...</td>\n",
       "    </tr>\n",
       "  </tbody>\n",
       "</table>\n",
       "</div>"
      ],
      "text/plain": [
       "       plaintext_id                                               text  \\\n",
       "index                                                                    \n",
       "0      ID_b3cc83f06  This movie is one of the very best Christmas m...   \n",
       "1      ID_3cb7f9fbd  Would love to see them release the show to a D...   \n",
       "2      ID_d7606215e  Sure, this is a B Movie but it is moody and cr...   \n",
       "3      ID_5d6dda9af  Forget the previous comment by the inknowleagi...   \n",
       "4      ID_21e645a25  I taped this masterpiece from the TV about 3 t...   \n",
       "\n",
       "       length  length_100                                            cipher1  \n",
       "index                                                                         \n",
       "0         258         300  /[!o7Cv#!l7!o7v2l7vz7x[l7#lQV7Flox7m[Q!oxC4o7C...  \n",
       "1         671         700  fvyO=7Ov#l7xv7oll7x[lC7QlOl4ol7x[l7o[v}7xv747p...  \n",
       "2         770         800  eyQl(7x[!o7!o747*7Jv#!l7Fyx7!x7!o7Cvv=V742=7,Q...  \n",
       "3         805         900  gvQ:lx7x[l7dQl#!vyo7,vCCl2x7FV7x[l7!2W2v}Ol4:!...  \n",
       "4         552         600  a7x4dl=7x[!o7C4oxlQd!l,l7zQvC7x[l7/574Fvyx7w7x...  "
      ]
     },
     "execution_count": 14,
     "metadata": {},
     "output_type": "execute_result"
    }
   ],
   "source": [
    "train['cipher1'] = train['text'].apply(encrypt_step1)\n",
    "train.head()"
   ]
  },
  {
   "cell_type": "code",
   "execution_count": 15,
   "metadata": {
    "scrolled": true
   },
   "outputs": [
    {
     "data": {
      "text/plain": [
       "length_100\n",
       "6000    14\n",
       "6200     9\n",
       "6500     2\n",
       "6600     3\n",
       "7100     1\n",
       "7500     2\n",
       "7900     1\n",
       "Name: text, dtype: int64"
      ]
     },
     "execution_count": 15,
     "metadata": {},
     "output_type": "execute_result"
    }
   ],
   "source": [
    "# select difficulty 2 ciphertexts\n",
    "diff2 = test[test['difficulty'] == 2]\n",
    "# group the ciphertexts by length & sort the values \n",
    "lengths = diff2.groupby('length')['ciphertext'].count().sort_values()\n",
    "# search for those cipher lengths which only once in our ciphertexts set\n",
    "rare_lengths =  lengths[lengths == 1].index\n",
    "# match them with the plaintext and count how many times we found a plaintext matching the length of the ciphertexts\n",
    "train[train['length_100'].isin(rare_lengths)].groupby('length_100')['text'].count()"
   ]
  },
  {
   "cell_type": "markdown",
   "metadata": {},
   "source": [
    "### 有2組一對一的明文密文"
   ]
  },
  {
   "cell_type": "code",
   "execution_count": 16,
   "metadata": {},
   "outputs": [
    {
     "data": {
      "text/html": [
       "<div>\n",
       "<style scoped>\n",
       "    .dataframe tbody tr th:only-of-type {\n",
       "        vertical-align: middle;\n",
       "    }\n",
       "\n",
       "    .dataframe tbody tr th {\n",
       "        vertical-align: top;\n",
       "    }\n",
       "\n",
       "    .dataframe thead th {\n",
       "        text-align: right;\n",
       "    }\n",
       "</style>\n",
       "<table border=\"1\" class=\"dataframe\">\n",
       "  <thead>\n",
       "    <tr style=\"text-align: right;\">\n",
       "      <th></th>\n",
       "      <th>plaintext_id</th>\n",
       "      <th>text</th>\n",
       "      <th>length</th>\n",
       "      <th>length_100</th>\n",
       "      <th>cipher1</th>\n",
       "    </tr>\n",
       "    <tr>\n",
       "      <th>index</th>\n",
       "      <th></th>\n",
       "      <th></th>\n",
       "      <th></th>\n",
       "      <th></th>\n",
       "      <th></th>\n",
       "    </tr>\n",
       "  </thead>\n",
       "  <tbody>\n",
       "    <tr>\n",
       "      <th>5169</th>\n",
       "      <td>ID_44394ca71</td>\n",
       "      <td>To the Producers of \"Boudica\"  All my life I h...</td>\n",
       "      <td>7045</td>\n",
       "      <td>7100</td>\n",
       "      <td>/v7x[l7'Qv=y,lQo7vz7b*vy=!,4b77qOO7CV7O!zl7a7[...</td>\n",
       "    </tr>\n",
       "    <tr>\n",
       "      <th>27862</th>\n",
       "      <td>ID_f4d572c54</td>\n",
       "      <td>JAPAN, 1603: A lone warrior races through the ...</td>\n",
       "      <td>7819</td>\n",
       "      <td>7900</td>\n",
       "      <td>\"q'qj(7]3Sw87q7Ov2l7}4QQ!vQ7Q4,lo7x[Qvy:[7x[l7...</td>\n",
       "    </tr>\n",
       "  </tbody>\n",
       "</table>\n",
       "</div>"
      ],
      "text/plain": [
       "       plaintext_id                                               text  \\\n",
       "index                                                                    \n",
       "5169   ID_44394ca71  To the Producers of \"Boudica\"  All my life I h...   \n",
       "27862  ID_f4d572c54  JAPAN, 1603: A lone warrior races through the ...   \n",
       "\n",
       "       length  length_100                                            cipher1  \n",
       "index                                                                         \n",
       "5169     7045        7100  /v7x[l7'Qv=y,lQo7vz7b*vy=!,4b77qOO7CV7O!zl7a7[...  \n",
       "27862    7819        7900  \"q'qj(7]3Sw87q7Ov2l7}4QQ!vQ7Q4,lo7x[Qvy:[7x[l7...  "
      ]
     },
     "execution_count": 16,
     "metadata": {},
     "output_type": "execute_result"
    }
   ],
   "source": [
    "matches = [7100, 7900]\n",
    "train[train['length_100'].isin(matches)].sort_values('length_100')"
   ]
  },
  {
   "cell_type": "code",
   "execution_count": 17,
   "metadata": {},
   "outputs": [
    {
     "data": {
      "text/html": [
       "<div>\n",
       "<style scoped>\n",
       "    .dataframe tbody tr th:only-of-type {\n",
       "        vertical-align: middle;\n",
       "    }\n",
       "\n",
       "    .dataframe tbody tr th {\n",
       "        vertical-align: top;\n",
       "    }\n",
       "\n",
       "    .dataframe thead th {\n",
       "        text-align: right;\n",
       "    }\n",
       "</style>\n",
       "<table border=\"1\" class=\"dataframe\">\n",
       "  <thead>\n",
       "    <tr style=\"text-align: right;\">\n",
       "      <th></th>\n",
       "      <th>ciphertext_id</th>\n",
       "      <th>ciphertext</th>\n",
       "      <th>difficulty</th>\n",
       "      <th>length</th>\n",
       "    </tr>\n",
       "  </thead>\n",
       "  <tbody>\n",
       "    <tr>\n",
       "      <th>338</th>\n",
       "      <td>ID_f8d497eb8</td>\n",
       "      <td>x;@{(-ZFwi%H;e8RPnx0{g$'?vi/j7k[i7'Ui=m,aXc7iw...</td>\n",
       "      <td>2</td>\n",
       "      <td>7100</td>\n",
       "    </tr>\n",
       "    <tr>\n",
       "      <th>35903</th>\n",
       "      <td>ID_98caefc04</td>\n",
       "      <td>!,Bf'D ?m.l]HI}*NrNS{KMgs1R%Oq*}Ur.GhOY'\"n'uw(...</td>\n",
       "      <td>2</td>\n",
       "      <td>7900</td>\n",
       "    </tr>\n",
       "  </tbody>\n",
       "</table>\n",
       "</div>"
      ],
      "text/plain": [
       "      ciphertext_id                                         ciphertext  \\\n",
       "338    ID_f8d497eb8  x;@{(-ZFwi%H;e8RPnx0{g$'?vi/j7k[i7'Ui=m,aXc7iw...   \n",
       "35903  ID_98caefc04  !,Bf'D ?m.l]HI}*NrNS{KMgs1R%Oq*}Ur.GhOY'\"n'uw(...   \n",
       "\n",
       "       difficulty  length  \n",
       "338             2    7100  \n",
       "35903           2    7900  "
      ]
     },
     "execution_count": 17,
     "metadata": {},
     "output_type": "execute_result"
    }
   ],
   "source": [
    "diff2[diff2['length'].isin(matches)].sort_values('length')"
   ]
  },
  {
   "cell_type": "markdown",
   "metadata": {},
   "source": [
    "### 比較其中一組"
   ]
  },
  {
   "cell_type": "code",
   "execution_count": 18,
   "metadata": {},
   "outputs": [
    {
     "name": "stdout",
     "output_type": "stream",
     "text": [
      "Cipher1 text:  /v7x[l7'Qv=y,lQo7vz7b*vy=!,4b77qOO7 (generated from the plaintext)\n",
      "Cipher2 text:  x;@{(-ZFwi%H;e8RPnx0{g$'?vi/j7k[i7'\n"
     ]
    }
   ],
   "source": [
    "print(\"Cipher1 text: \", train[train.plaintext_id==\"ID_44394ca71\"].cipher1.values[0][0:35], \"(generated from the plaintext)\")\n",
    "print(\"Cipher2 text: \",test[test.ciphertext_id==\"ID_f8d497eb8\"].ciphertext.values[0][0:35])"
   ]
  },
  {
   "cell_type": "code",
   "execution_count": 19,
   "metadata": {},
   "outputs": [
    {
     "name": "stdout",
     "output_type": "stream",
     "text": [
      "Cipher1 text:  /v7x[l7'Qv=y,lQo7vz7b*vy=!,4b77qOO7\n",
      "Cipher2 text:  /j7k[i7'Ui=m,aXc7iw7f*im=!,4q77xCB7\n"
     ]
    }
   ],
   "source": [
    "print(\"Cipher1 text: \",train[train.plaintext_id==\"ID_44394ca71\"].cipher1.values[0][0:35])\n",
    "print(\"Cipher2 text: \",test[test.ciphertext_id==\"ID_f8d497eb8\"].ciphertext.values[0][(55//2):(55//2)+35])"
   ]
  },
  {
   "cell_type": "markdown",
   "metadata": {},
   "source": [
    "### 移除重複的字元"
   ]
  },
  {
   "cell_type": "code",
   "execution_count": 20,
   "metadata": {},
   "outputs": [
    {
     "name": "stdout",
     "output_type": "stream",
     "text": [
      "vxlQvylQovzbvybqOO\n",
      "jkiUimaXciwfimqxCB\n"
     ]
    }
   ],
   "source": [
    "cipher1 = train[train.plaintext_id==\"ID_44394ca71\"].cipher1.values[0][0:35]\n",
    "cipher2 = test[test.ciphertext_id==\"ID_f8d497eb8\"].ciphertext.values[0][(55//2):(55//2)+35]\n",
    "\n",
    "diff_char1 = \"\"\n",
    "diff_char2 = \"\"\n",
    "for i in range(len(cipher1)):\n",
    "    if cipher1[i] != cipher2[i]:\n",
    "        diff_char1 += cipher1[i]\n",
    "        diff_char2 += cipher2[i]\n",
    "\n",
    "print(diff_char1)\n",
    "print(diff_char2)"
   ]
  },
  {
   "cell_type": "markdown",
   "metadata": {},
   "source": [
    "### 經過分析，應該為多表替換加密（Polyalphabetic cipher）\n",
    "### 試著找出密鑰"
   ]
  },
  {
   "cell_type": "code",
   "execution_count": 21,
   "metadata": {},
   "outputs": [
    {
     "data": {
      "text/plain": [
       "'ONXeNOPhONXeNOphON'"
      ]
     },
     "execution_count": 21,
     "metadata": {},
     "output_type": "execute_result"
    }
   ],
   "source": [
    "def find_key(cipher2, cipher1, alphabet):\n",
    "    ciphertext = ''\n",
    "    for i, c in enumerate(cipher2):\n",
    "        # check if character is in alphabet\n",
    "        if c in alphabet:\n",
    "            # get the index of the cipher2 character in the alphabet\n",
    "            plain_key = alphabet.index(cipher2[i])\n",
    "            # do the same for the cipher1 character\n",
    "            enc_key = alphabet.index(cipher1[i])\n",
    "            # subtract, but make sure we are still inside the alphabet\n",
    "            newIndex = (plain_key - enc_key) % len(alphabet)\n",
    "            # return character from alphabet based on subtracted indices\n",
    "            ciphertext += alphabet[newIndex]\n",
    "            #cntr = (cntr + 1) % key_length\n",
    "        else:\n",
    "            ciphertext += \"\"\n",
    "            \n",
    "    return ciphertext\n",
    "\n",
    "find_key(diff_char2, diff_char1, \"abcdefghijklmnopqrstuvwxyzABCDEFGHIJKLMNOPQRSTUVWXYZ\")"
   ]
  },
  {
   "cell_type": "code",
   "execution_count": 22,
   "metadata": {},
   "outputs": [
    {
     "data": {
      "text/plain": [
       "'onxenophonxenophon'"
      ]
     },
     "execution_count": 22,
     "metadata": {},
     "output_type": "execute_result"
    }
   ],
   "source": [
    "find_key(diff_char2, diff_char1, 'aAbBcCdDeEfFgGhHiIjJkKlLmMnNoOpPqQrRsStTuUvVwWxXyYzZ')"
   ]
  },
  {
   "cell_type": "markdown",
   "metadata": {},
   "source": [
    "### 將密鑰設為'xenophon'並建立加密／解密演算法"
   ]
  },
  {
   "cell_type": "code",
   "execution_count": 23,
   "metadata": {},
   "outputs": [],
   "source": [
    "def encrypt_vigenere(plaintext, key, alphabet):\n",
    "    key_length = len(key)\n",
    "    cntr = 0\n",
    "    ciphertext = ''\n",
    "    for i, c in enumerate(plaintext):\n",
    "        if c in alphabet:\n",
    "            charIndex = alphabet.index(c)\n",
    "            keyIndex = alphabet.index(key[cntr])\n",
    "            newIndex = (charIndex + keyIndex) % len(alphabet)\n",
    "            ciphertext += alphabet[newIndex]\n",
    "            cntr = (cntr + 1) % key_length\n",
    "        else:\n",
    "            ciphertext += c\n",
    "            \n",
    "    return ciphertext\n",
    "\n",
    "def decrypt_vigenere(plaintext, key, alphabet):\n",
    "    key_length = len(key)\n",
    "    cntr = 0\n",
    "    ciphertext = ''\n",
    "    for i, c in enumerate(plaintext):\n",
    "        if c in alphabet:\n",
    "            charIndex = alphabet.index(c)\n",
    "            keyIndex = alphabet.index(key[cntr])\n",
    "            newIndex = (charIndex - keyIndex) % len(alphabet)\n",
    "            ciphertext += alphabet[newIndex]\n",
    "            cntr = (cntr + 1) % key_length\n",
    "        else:\n",
    "            ciphertext += c\n",
    "            \n",
    "    return ciphertext"
   ]
  },
  {
   "cell_type": "markdown",
   "metadata": {},
   "source": [
    "### 試個例子"
   ]
  },
  {
   "cell_type": "code",
   "execution_count": 24,
   "metadata": {},
   "outputs": [
    {
     "name": "stdout",
     "output_type": "stream",
     "text": [
      "IZ5j,=y0K]QxZA:?0N'Xj8[P4F\"To the Producers of \"Boudica\"  All my life I have\n",
      "                           To the Producers of \"Boudica\"  All my life I have\n"
     ]
    }
   ],
   "source": [
    "cipher = test[test.ciphertext_id==\"ID_f8d497eb8\"].ciphertext.values[0]\n",
    "\n",
    "step1 = decrypt_vigenere(cipher, 'xenophon', 'aAbBcCdDeEfFgGhHiIjJkKlLmMnNoOpPqQrRsStTuUvVwWxXyYzZ')\n",
    "step2 = decrypt_step1(step1)\n",
    "\n",
    "# decrypted text\n",
    "print(step2[0:76])\n",
    "# plaintext\n",
    "print(\"                          \",train[train.plaintext_id==\"ID_44394ca71\"].text.values[0][0:76-27])"
   ]
  },
  {
   "cell_type": "markdown",
   "metadata": {},
   "source": [
    "# 破解難度3"
   ]
  },
  {
   "cell_type": "code",
   "execution_count": 28,
   "metadata": {},
   "outputs": [],
   "source": [
    "# Difficulty 1\n",
    "alphabet = \"\"\"7lx4v!2oQ[O=,yCzV:}dFX#(Wak/bqne*JApK{cmf6 GZDj9gT\\'\"YSHiE]5)81hMNwI@P?Us%;30uBrLR-.$t\"\"\"\n",
    "key =      \"\"\" etaoinsrhldcumfygwpb.v,kI\\'T\"A-SBMxDHj)CW(ELORN!FGPJz0qK?1VY:U92/3*5;478QZ6X%$}#@={[]\"\"\"\n",
    "\n",
    "decrypt_mapping = {}\n",
    "encrypt_mapping = {}\n",
    "for i, j in zip(alphabet, key):\n",
    "    decrypt_mapping[ord(i)] = ord(j)\n",
    "    encrypt_mapping[ord(j)] = ord(i)\n",
    "\n",
    "def encrypt_step1(x):\n",
    "    return x.translate(encrypt_mapping)\n",
    "\n",
    "def decrypt_step1(x):\n",
    "    return x.translate(decrypt_mapping)\n",
    "\n",
    "# Difficulty 2\n",
    "def encrypt_step2(plaintext, key='xenophon', alphabet='aAbBcCdDeEfFgGhHiIjJkKlLmMnNoOpPqQrRsStTuUvVwWxXyYzZ'):\n",
    "    key_length = len(key)\n",
    "    cntr = 0\n",
    "    ciphertext = ''\n",
    "    for i, c in enumerate(plaintext):\n",
    "        if c in alphabet:\n",
    "            charIndex = alphabet.index(c)\n",
    "            keyIndex = alphabet.index(key[cntr])\n",
    "            newIndex = (charIndex + keyIndex) % len(alphabet)\n",
    "            ciphertext += alphabet[newIndex]\n",
    "            cntr = (cntr + 1) % key_length\n",
    "        else:\n",
    "            ciphertext += c\n",
    "            \n",
    "    return ciphertext\n",
    "\n",
    "def decrypt_step2(ciphertext, key='xenophon', alphabet='aAbBcCdDeEfFgGhHiIjJkKlLmMnNoOpPqQrRsStTuUvVwWxXyYzZ'):\n",
    "    key_length = len(key)\n",
    "    cntr = 0\n",
    "    plaintext = ''\n",
    "    for i, c in enumerate(ciphertext):\n",
    "        if c in alphabet:\n",
    "            charIndex = alphabet.index(c)\n",
    "            keyIndex = alphabet.index(key[cntr])\n",
    "            newIndex = (charIndex - keyIndex) % len(alphabet)\n",
    "            plaintext += alphabet[newIndex]\n",
    "            cntr = (cntr + 1) % key_length\n",
    "        else:\n",
    "            plaintext += c\n",
    "            \n",
    "    return plaintext"
   ]
  },
  {
   "cell_type": "code",
   "execution_count": 25,
   "metadata": {},
   "outputs": [
    {
     "data": {
      "image/png": "[encoded data removed]",
      "text/plain": [
       "<Figure size 360x1080 with 1 Axes>"
      ]
     },
     "metadata": {},
     "output_type": "display_data"
    }
   ],
   "source": [
    "# Count occurences of characters of ciphertexts of difficulty 2\n",
    "diff2_cntr = Counter(''.join(test[test['difficulty'] == 2]['ciphertext'].values))\n",
    "# new dataframe with frequency and letter\n",
    "diff2_stats = pd.DataFrame([[x[0], x[1]] for x in diff2_cntr.items()], columns=['Letter', 'Frequency'])\n",
    "# sort dataframe on occurence of frequency\n",
    "diff2_stats = diff2_stats.sort_values(by='Frequency', ascending=True)\n",
    "\n",
    "# plot\n",
    "f, ax = plt.subplots(figsize=(5, 15))\n",
    "plt.barh(np.array(range(len(diff2_stats))) + 0.5, diff2_stats['Frequency'].values)\n",
    "plt.yticks(np.array(range(len(diff2_stats))) + 0.5, diff2_stats['Letter'].values)\n",
    "plt.show()"
   ]
  },
  {
   "cell_type": "code",
   "execution_count": 26,
   "metadata": {},
   "outputs": [
    {
     "data": {
      "image/png": "[encoded data removed]",
      "text/plain": [
       "<Figure size 360x1080 with 1 Axes>"
      ]
     },
     "metadata": {},
     "output_type": "display_data"
    }
   ],
   "source": [
    "# Count occurences of characters of ciphertexts of difficulty 3\n",
    "diff3_cntr = Counter(''.join(test[test['difficulty'] == 3]['ciphertext'].values))\n",
    "# new dataframe with frequency and letter\n",
    "diff3_stats = pd.DataFrame([[x[0], x[1]] for x in diff3_cntr.items()], columns=['Letter', 'Frequency'])\n",
    "# sort dataframe on occurence of frequency\n",
    "diff3_stats = diff3_stats.sort_values(by='Frequency', ascending=True)\n",
    "\n",
    "# plot\n",
    "f, ax = plt.subplots(figsize=(5, 15))\n",
    "plt.barh(np.array(range(len(diff3_stats))) + 0.5, diff3_stats['Frequency'].values)\n",
    "plt.yticks(np.array(range(len(diff3_stats))) + 0.5, diff3_stats['Letter'].values)\n",
    "plt.show()"
   ]
  },
  {
   "cell_type": "markdown",
   "metadata": {},
   "source": [
    "### 依照頻率圖做明文密文的配對（長度=700）"
   ]
  },
  {
   "cell_type": "code",
   "execution_count": 36,
   "metadata": {},
   "outputs": [
    {
     "name": "stderr",
     "output_type": "stream",
     "text": [
      "C:\\ProgramData\\Anaconda3\\lib\\site-packages\\ipykernel_launcher.py:3: SettingWithCopyWarning: \n",
      "A value is trying to be set on a copy of a slice from a DataFrame.\n",
      "Try using .loc[row_indexer,col_indexer] = value instead\n",
      "\n",
      "See the caveats in the documentation: http://pandas.pydata.org/pandas-docs/stable/indexing.html#indexing-view-versus-copy\n",
      "  This is separate from the ipykernel package so we can avoid doing imports until\n"
     ]
    },
    {
     "data": {
      "application/vnd.jupyter.widget-view+json": {
       "model_id": "8f7b0944eb7a4696a6190b48e254eece",
       "version_major": 2,
       "version_minor": 0
      },
      "text/plain": [
       "HBox(children=(IntProgress(value=0, max=67), HTML(value='')))"
      ]
     },
     "metadata": {},
     "output_type": "display_data"
    },
    {
     "name": "stdout",
     "output_type": "stream",
     "text": [
      "\n",
      "defaultdict(<class 'list'>, {5829: [12050], 6608: [12534], 8263: [30312], 11165: [10615], 12737: [19293], 16843: [36135], 17665: [31316], 17756: [1480], 27213: [44067], 27236: [20136], 27859: [38392], 29779: [15372], 35529: [27047], 36616: [7026], 40026: [41255], 40403: [40822]})\n"
     ]
    }
   ],
   "source": [
    "# Let's get all plaintexts of length 700\n",
    "train_filtered = train[train['length'] == 700]\n",
    "train_filtered['cipher2'] = train_filtered['text'].apply(lambda x: encrypt_step2(encrypt_step1(x)))\n",
    "\n",
    "plain_to_cipher = defaultdict(list)\n",
    "for i, row in tqdm_notebook(train_filtered.iterrows(), total=len(train_filtered)):\n",
    "    row_cntr = Counter(row['cipher2'])\n",
    "    test_filtered = test[(test['length'] == len(row['text'])) & (test['difficulty'] == 3)]\n",
    "    for j, row2 in test_filtered.iterrows():\n",
    "        row2_cntr = Counter(row2['ciphertext'])\n",
    "        \n",
    "        match = True\n",
    "        for k in row_cntr:\n",
    "            if k not in row2_cntr or row_cntr[k] != row2_cntr[k]:\n",
    "                match = False\n",
    "                break\n",
    "                \n",
    "        if match:\n",
    "            plain_to_cipher[i].append(j)\n",
    "            break\n",
    "            \n",
    "print(plain_to_cipher)"
   ]
  },
  {
   "cell_type": "markdown",
   "metadata": {},
   "source": [
    "### 尋找僅出現一次的字元並回傳其位置"
   ]
  },
  {
   "cell_type": "code",
   "execution_count": 37,
   "metadata": {},
   "outputs": [
    {
     "data": {
      "application/vnd.jupyter.widget-view+json": {
       "model_id": "cc4a1b95f9334d43a1122e4eb8523ed5",
       "version_major": 2,
       "version_minor": 0
      },
      "text/plain": [
       "HBox(children=(IntProgress(value=0, max=16), HTML(value='')))"
      ]
     },
     "metadata": {},
     "output_type": "display_data"
    },
    {
     "name": "stdout",
     "output_type": "stream",
     "text": [
      "\n",
      "0 {0}\n",
      "13 {286}\n",
      "15 {330}\n",
      "25 {550}\n",
      "33 {21}\n",
      "40 {89}\n",
      "49 {197}\n",
      "52 {221}\n",
      "59 {307}\n",
      "64 {353}\n",
      "68 {397}\n",
      "81 {549}\n",
      "83 {571}\n",
      "88 {617}\n",
      "92 {661}\n",
      "97 {24}\n",
      "106 {130}\n",
      "114 {218}\n",
      "115 {222}\n",
      "116 {240}\n",
      "117 {244}\n",
      "131 {398}\n",
      "136 {460}\n",
      "140 {504}\n",
      "150 {614}\n",
      "158 {3}\n",
      "159 {19}\n",
      "161 {41}\n",
      "163 {63}\n",
      "166 {91}\n",
      "178 {223}\n",
      "180 {245}\n",
      "183 {283}\n",
      "191 {371}\n",
      "192 {377}\n",
      "194 {399}\n",
      "200 {465}\n",
      "204 {509}\n",
      "213 {613}\n",
      "218 {663}\n",
      "220 {685}\n",
      "222 {18}\n",
      "223 {26}\n",
      "226 {62}\n",
      "230 {106}\n",
      "246 {282}\n",
      "265 {488}\n",
      "275 {598}\n",
      "276 {612}\n",
      "277 {620}\n",
      "279 {642}\n",
      "289 {61}\n",
      "302 {203}\n",
      "305 {237}\n",
      "319 {391}\n",
      "321 {413}\n",
      "328 {489}\n",
      "329 {501}\n",
      "334 {555}\n",
      "337 {589}\n",
      "347 {699}\n",
      "359 {126}\n",
      "362 {160}\n",
      "364 {182}\n",
      "373 {280}\n",
      "376 {314}\n",
      "390 {468}\n",
      "393 {500}\n",
      "395 {522}\n",
      "407 {654}\n",
      "409 {676}\n",
      "412 {7}\n",
      "415 {37}\n",
      "422 {117}\n",
      "427 {169}\n",
      "429 {191}\n",
      "434 {249}\n",
      "442 {337}\n",
      "443 {345}\n",
      "448 {403}\n",
      "483 {80}\n",
      "501 {278}\n",
      "509 {366}\n",
      "512 {404}\n",
      "528 {580}\n",
      "534 {646}\n",
      "537 {674}\n",
      "561 {233}\n",
      "564 {273}\n",
      "581 {453}\n",
      "595 {607}\n",
      "600 {669}\n",
      "604 {10}\n",
      "607 {34}\n",
      "611 {78}\n",
      "614 {120}\n",
      "616 {142}\n",
      "625 {232}\n",
      "627 {254}\n",
      "634 {340}\n",
      "644 {450}\n",
      "655 {562}\n",
      "657 {584}\n",
      "658 {604}\n",
      "677 {209}\n",
      "684 {363}\n",
      "690 {495}\n"
     ]
    }
   ],
   "source": [
    "mapping = defaultdict(set)\n",
    "for k in tqdm_notebook(plain_to_cipher):\n",
    "    plain_encrypted = train_filtered.loc[k, 'cipher2']\n",
    "    plain_cntr = Counter(plain_encrypted)\n",
    "    \n",
    "    cipher = test.loc[plain_to_cipher[k][0], 'ciphertext']\n",
    "    cipher_cntr = Counter(cipher)\n",
    "    \n",
    "    for key in plain_cntr:\n",
    "        if plain_cntr[key] == 1 and cipher_cntr[key] == 1:\n",
    "            mapping[cipher.index(key)].add(plain_encrypted.index(key))\n",
    "            \n",
    "for key in sorted(mapping.keys()):\n",
    "    print(key, mapping[key])"
   ]
  },
  {
   "cell_type": "markdown",
   "metadata": {},
   "source": [
    "### 建立置換表格"
   ]
  },
  {
   "cell_type": "code",
   "execution_count": 38,
   "metadata": {},
   "outputs": [
    {
     "data": {
      "text/plain": [
       "array([[   0,   14,   41,   68,   95,  122,  149,  176,  203,  230,  258,  286,  259,  231,  204,  177,  150,  123,   96,   69,   42,   15],\n",
       "       [   1,   16,   43,   70,   97,  124,  151,  178,  205,  232,  260,  287,  261,  233,  206,  179,  152,  125,   98,   71,   44,   17],\n",
       "       [   2,   18,   45,   72,   99,  126,  153,  180,  207,  234,  262,  288,  263,  235,  208,  181,  154,  127,  100,   73,   46,   19],\n",
       "       [   3,   20,   47,   74,  101,  128,  155,  182,  209,  236,  264,  289,  265,  237,  210,  183,  156,  129,  102,   75,   48,   21],\n",
       "       [   4,   22,   49,   76,  103,  130,  157,  184,  211,  238,  266,  290,  267,  239,  212,  185,  158,  131,  104,   77,   50,   23],\n",
       "       [   5,   24,   51,   78,  105,  132,  159,  186,  213,  240,  268,  291,  269,  241,  214,  187,  160,  133,  106,   79,   52,   25],\n",
       "       [   6,   26,   53,   80,  107,  134,  161,  188,  215,  242,  270,  292,  271,  243,  216,  189,  162,  135,  108,   81,   54,   27],\n",
       "       [   7,   28,   55,   82,  109,  136,  163,  190,  217,  244,  272,  293,  273,  245,  218,  191,  164,  137,  110,   83,   56,   29],\n",
       "       [   8,   30,   57,   84,  111,  138,  165,  192,  219,  246,  274,  294,  275,  247,  220,  193,  166,  139,  112,   85,   58,   31],\n",
       "       [   9,   32,   59,   86,  113,  140,  167,  194,  221,  248,  276,  295,  277,  249,  222,  195,  168,  141,  114,   87,   60,   33],\n",
       "       [  10,   34,   61,   88,  115,  142,  169,  196,  223,  250,  278,  296,  279,  251,  224,  197,  170,  143,  116,   89,   62,   35],\n",
       "       [  11,   36,   63,   90,  117,  144,  171,  198,  225,  252,  280,  297,  281,  253,  226,  199,  172,  145,  118,   91,   64,   37],\n",
       "       [  12,   38,   65,   92,  119,  146,  173,  200,  227,  254,  282,  298,  283,  255,  228,  201,  174,  147,  120,   93,   66,   39],\n",
       "       [  13,   40,   67,   94,  121,  148,  175,  202,  229,  256,  284,  299,  285,  257,  nan,  nan,  nan,  nan,  nan,  nan,  nan,  nan]])"
      ]
     },
     "execution_count": 38,
     "metadata": {},
     "output_type": "execute_result"
    }
   ],
   "source": [
    "def create_table(length, n_cols=22):\n",
    "    n_rows = int(np.ceil(length / n_cols))\n",
    "    table = np.zeros((n_rows, n_cols))\n",
    "    table[:, 0] = list(range(n_rows))\n",
    "    \n",
    "    cntr = n_rows - 1\n",
    "    for col in range(1, n_cols // 2):\n",
    "        for row in range(n_rows):\n",
    "            if 0 < (length % n_cols) <= col and row == n_rows - 1:\n",
    "                table[row, col] = np.NaN\n",
    "            else:\n",
    "                cntr += 1\n",
    "                table[row, col] = cntr\n",
    "                \n",
    "            \n",
    "            if 0 < (length % n_cols) <= 22 - col and row == n_rows - 1:\n",
    "                table[row, 22 - col] = np.NaN\n",
    "            else:\n",
    "                cntr += 1\n",
    "                table[row, 22 - col] = cntr\n",
    "            \n",
    "    for row in range(n_rows):\n",
    "        if 0 < (length % n_cols) <= n_cols // 2 and row == n_rows - 1:\n",
    "            table[row, n_cols // 2] = np.NaN\n",
    "        else:\n",
    "            cntr += 1\n",
    "            table[row, n_cols // 2] = cntr\n",
    "        \n",
    "    return table\n",
    "\n",
    "np.set_printoptions(edgeitems=30, linewidth=100000, \n",
    "                    formatter=dict(float=lambda x: \"% 4g\" % x))\n",
    "create_table(300)"
   ]
  },
  {
   "cell_type": "markdown",
   "metadata": {},
   "source": [
    "### 建立加密／解密演算法"
   ]
  },
  {
   "cell_type": "code",
   "execution_count": 39,
   "metadata": {},
   "outputs": [],
   "source": [
    "def create_map(text, n_cols=22):\n",
    "    table = create_table(len(text), n_cols=n_cols)\n",
    "    mapping = {}\n",
    "    rev_mapping = {}\n",
    "    for i, c in enumerate(text):\n",
    "        row_ix, col_ix = [x[0] for x in np.where(table == i)]\n",
    "        new_pos = row_ix * n_cols + col_ix\n",
    "        mapping[i] = new_pos\n",
    "        rev_mapping[new_pos] = i\n",
    "\n",
    "    return mapping, rev_mapping\n",
    "\n",
    "def encrypt_step3(text):\n",
    "    mapping, _ = create_map(text)\n",
    "    output = ''\n",
    "    for i, c in enumerate(text):\n",
    "        output += text[mapping[i]]\n",
    "    return output\n",
    "\n",
    "def decrypt_step3(text):\n",
    "    _, rev_mapping = create_map(text)\n",
    "    output = ''\n",
    "    for i, c in enumerate(text):\n",
    "        output += text[rev_mapping[i]]\n",
    "    return output"
   ]
  },
  {
   "cell_type": "markdown",
   "metadata": {},
   "source": [
    "### 試個例子"
   ]
  },
  {
   "cell_type": "code",
   "execution_count": 40,
   "metadata": {},
   "outputs": [
    {
     "name": "stdout",
     "output_type": "stream",
     "text": [
      "g$@=1RAa5vlun*ZmxPu7iMvUuyf0\"RN1i*hWeird and funny action in South America film. It is the result of collaboration between two rather bright European b movies masters. And it looks more like Franco's film, than Bianchi's. It is one of those banana super actions, with jungle locations, naked women, senseless story. But it has absurd and drive indeed. It looks like comics in some parts and have lo fi special effects amusement. The characters including Howard Vernon are nice and they make that real-time two-weeks made drive. The fans of Commander Strike, Oasis of the zombies will probably love this super-improvised hallucination etc.  www.myspace.com/neizvestSz*R)#At@J:HvM.eA(d$}j1*hy4.NO)1JVjQ\n"
     ]
    }
   ],
   "source": [
    "cipher = test[(test['difficulty'] == 3)].sample(1).iloc[0, :]['ciphertext']\n",
    "step1 = decrypt_step3(cipher)\n",
    "step2 = decrypt_step2(step1)\n",
    "step3 = decrypt_step1(step2)\n",
    "print(step3)"
   ]
  },
  {
   "cell_type": "code",
   "execution_count": null,
   "metadata": {},
   "outputs": [],
   "source": []
  }
 ],
 "metadata": {
  "kernelspec": {
   "display_name": "Python 3",
   "language": "python",
   "name": "python3"
  },
  "language_info": {
   "codemirror_mode": {
    "name": "ipython",
    "version": 3
   },
   "file_extension": ".py",
   "mimetype": "text/x-python",
   "name": "python",
   "nbconvert_exporter": "python",
   "pygments_lexer": "ipython3",
   "version": "3.6.5"
  }
 },
 "nbformat": 4,
 "nbformat_minor": 2
}
