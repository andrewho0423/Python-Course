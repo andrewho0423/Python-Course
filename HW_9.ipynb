{
 "cells": [
  {
   "cell_type": "code",
   "execution_count": 37,
   "metadata": {},
   "outputs": [],
   "source": [
    "import numpy as np\n",
    "import matplotlib.pyplot as plt\n",
    "from keras.datasets import mnist\n",
    "from keras.models import Sequential, load_model\n",
    "from keras.layers import Dense, Flatten, Conv2D, MaxPool2D, Activation\n",
    "from keras.utils import np_utils\n",
    "from keras.optimizers import adam"
   ]
  },
  {
   "cell_type": "markdown",
   "metadata": {},
   "source": [
    "### 讀資料 "
   ]
  },
  {
   "cell_type": "code",
   "execution_count": 38,
   "metadata": {},
   "outputs": [],
   "source": [
    "(x_train, y_train), (x_test, y_test) = mnist.load_data()\n",
    "\n",
    "\n",
    "x_train = x_train.reshape(60000, 28, 28, 1)\n",
    "x_test = x_test.reshape(10000, 28, 28, 1)\n",
    "\n",
    "y_train = np_utils.to_categorical(y_train, 10)\n",
    "y_test = np_utils.to_categorical(y_test, 10)"
   ]
  },
  {
   "cell_type": "code",
   "execution_count": 39,
   "metadata": {},
   "outputs": [],
   "source": [
    "model = Sequential()"
   ]
  },
  {
   "cell_type": "markdown",
   "metadata": {},
   "source": [
    "### 取兩層CNN"
   ]
  },
  {
   "cell_type": "code",
   "execution_count": 40,
   "metadata": {},
   "outputs": [],
   "source": [
    "model.add(Conv2D(8,(4,4), padding='same', input_shape=(28, 28, 1)))\n",
    "model.add(Activation('sigmoid'))\n",
    "model.add(MaxPool2D(pool_size=(3,3)))\n",
    "\n",
    "model.add(Conv2D(16,(4,4), padding='same'))\n",
    "model.add(Activation('sigmoid'))\n",
    "model.add(MaxPool2D(pool_size=(2, 2)))"
   ]
  },
  {
   "cell_type": "markdown",
   "metadata": {},
   "source": [
    "### Flatten"
   ]
  },
  {
   "cell_type": "code",
   "execution_count": 41,
   "metadata": {},
   "outputs": [],
   "source": [
    "model.add(Flatten())\n",
    "model.add(Dense(16, activation='sigmoid'))\n",
    "model.add(Dense(10, activation='softmax'))"
   ]
  },
  {
   "cell_type": "code",
   "execution_count": 42,
   "metadata": {},
   "outputs": [
    {
     "name": "stdout",
     "output_type": "stream",
     "text": [
      "_________________________________________________________________\n",
      "Layer (type)                 Output Shape              Param #   \n",
      "=================================================================\n",
      "conv2d_16 (Conv2D)           (None, 28, 28, 8)         136       \n",
      "_________________________________________________________________\n",
      "activation_9 (Activation)    (None, 28, 28, 8)         0         \n",
      "_________________________________________________________________\n",
      "max_pooling2d_9 (MaxPooling2 (None, 9, 9, 8)           0         \n",
      "_________________________________________________________________\n",
      "conv2d_17 (Conv2D)           (None, 9, 9, 16)          2064      \n",
      "_________________________________________________________________\n",
      "activation_10 (Activation)   (None, 9, 9, 16)          0         \n",
      "_________________________________________________________________\n",
      "max_pooling2d_10 (MaxPooling (None, 4, 4, 16)          0         \n",
      "_________________________________________________________________\n",
      "flatten_4 (Flatten)          (None, 256)               0         \n",
      "_________________________________________________________________\n",
      "dense_7 (Dense)              (None, 16)                4112      \n",
      "_________________________________________________________________\n",
      "dense_8 (Dense)              (None, 10)                170       \n",
      "=================================================================\n",
      "Total params: 6,482\n",
      "Trainable params: 6,482\n",
      "Non-trainable params: 0\n",
      "_________________________________________________________________\n"
     ]
    }
   ],
   "source": [
    "model.compile(loss='categorical_crossentropy', optimizer=adam(lr=0.005), metrics=['accuracy'])\n",
    "\n",
    "model.summary()"
   ]
  },
  {
   "cell_type": "code",
   "execution_count": 43,
   "metadata": {},
   "outputs": [
    {
     "name": "stdout",
     "output_type": "stream",
     "text": [
      "Epoch 1/20\n",
      "60000/60000 [==============================] - 22s 361us/step - loss: 1.0888 - acc: 0.6814\n",
      "Epoch 2/20\n",
      "60000/60000 [==============================] - 23s 385us/step - loss: 0.2436 - acc: 0.9338\n",
      "Epoch 3/20\n",
      "60000/60000 [==============================] - 22s 363us/step - loss: 0.1610 - acc: 0.9534\n",
      "Epoch 4/20\n",
      "60000/60000 [==============================] - 22s 375us/step - loss: 0.1280 - acc: 0.9619\n",
      "Epoch 5/20\n",
      "60000/60000 [==============================] - 22s 362us/step - loss: 0.1112 - acc: 0.9671\n",
      "Epoch 6/20\n",
      "60000/60000 [==============================] - 22s 362us/step - loss: 0.0992 - acc: 0.9703\n",
      "Epoch 7/20\n",
      "60000/60000 [==============================] - 22s 358us/step - loss: 0.0882 - acc: 0.9730\n",
      "Epoch 8/20\n",
      "60000/60000 [==============================] - 22s 359us/step - loss: 0.0870 - acc: 0.9734\n",
      "Epoch 9/20\n",
      "60000/60000 [==============================] - 22s 363us/step - loss: 0.0798 - acc: 0.9753\n",
      "Epoch 10/20\n",
      "60000/60000 [==============================] - 22s 363us/step - loss: 0.0743 - acc: 0.9760\n",
      "Epoch 11/20\n",
      "60000/60000 [==============================] - 22s 364us/step - loss: 0.0734 - acc: 0.9770\n",
      "Epoch 12/20\n",
      "60000/60000 [==============================] - 22s 369us/step - loss: 0.0707 - acc: 0.9771\n",
      "Epoch 13/20\n",
      "60000/60000 [==============================] - 22s 365us/step - loss: 0.0627 - acc: 0.9802\n",
      "Epoch 14/20\n",
      "60000/60000 [==============================] - 22s 365us/step - loss: 0.0608 - acc: 0.9808\n",
      "Epoch 15/20\n",
      "60000/60000 [==============================] - 22s 371us/step - loss: 0.0590 - acc: 0.9814\n",
      "Epoch 16/20\n",
      "60000/60000 [==============================] - 23s 385us/step - loss: 0.0604 - acc: 0.9804\n",
      "Epoch 17/20\n",
      "60000/60000 [==============================] - 23s 379us/step - loss: 0.0565 - acc: 0.9820\n",
      "Epoch 18/20\n",
      "60000/60000 [==============================] - 22s 367us/step - loss: 0.0565 - acc: 0.9822\n",
      "Epoch 19/20\n",
      "60000/60000 [==============================] - 20s 336us/step - loss: 0.0544 - acc: 0.9823\n",
      "Epoch 20/20\n",
      "60000/60000 [==============================] - 20s 335us/step - loss: 0.0507 - acc: 0.9838\n"
     ]
    },
    {
     "data": {
      "text/plain": [
       "<keras.callbacks.History at 0x14150ac8>"
      ]
     },
     "execution_count": 43,
     "metadata": {},
     "output_type": "execute_result"
    }
   ],
   "source": [
    "model.fit(x_train, y_train, batch_size=200, epochs=20)"
   ]
  },
  {
   "cell_type": "code",
   "execution_count": 44,
   "metadata": {},
   "outputs": [
    {
     "name": "stdout",
     "output_type": "stream",
     "text": [
      "10000/10000 [==============================] - 2s 246us/step\n",
      "作業9的正確率； 0.9797\n"
     ]
    }
   ],
   "source": [
    "test = model.evaluate(x_test, y_test)\n",
    "print('作業9的正確率；', test[1])"
   ]
  },
  {
   "cell_type": "code",
   "execution_count": null,
   "metadata": {},
   "outputs": [],
   "source": []
  }
 ],
 "metadata": {
  "kernelspec": {
   "display_name": "Python 3",
   "language": "python",
   "name": "python3"
  },
  "language_info": {
   "codemirror_mode": {
    "name": "ipython",
    "version": 3
   },
   "file_extension": ".py",
   "mimetype": "text/x-python",
   "name": "python",
   "nbconvert_exporter": "python",
   "pygments_lexer": "ipython3",
   "version": "3.6.5"
  }
 },
 "nbformat": 4,
 "nbformat_minor": 2
}
