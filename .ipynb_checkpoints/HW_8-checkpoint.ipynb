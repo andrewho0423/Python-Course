{
 "cells": [
  {
   "cell_type": "markdown",
   "metadata": {},
   "source": [
    "## 使用Functional API打造神經網路"
   ]
  },
  {
   "cell_type": "code",
   "execution_count": 1,
   "metadata": {},
   "outputs": [
    {
     "name": "stdout",
     "output_type": "stream",
     "text": [
      "env: KERAS_BACKEND=tensorflow\n"
     ]
    }
   ],
   "source": [
    "%env KERAS_BACKEND=tensorflow"
   ]
  },
  {
   "cell_type": "code",
   "execution_count": 2,
   "metadata": {},
   "outputs": [],
   "source": [
    "%matplotlib inline\n",
    "import matplotlib.pyplot as plt\n",
    "import numpy as np\n",
    "import pandas as pd"
   ]
  },
  {
   "cell_type": "code",
   "execution_count": 3,
   "metadata": {},
   "outputs": [
    {
     "name": "stderr",
     "output_type": "stream",
     "text": [
      "Using TensorFlow backend.\n"
     ]
    }
   ],
   "source": [
    "# NN=related\n",
    "from keras.models import Sequential\n",
    "from keras.layers.core import Dense, Activation\n",
    "from keras.optimizers import SGD,Adam\n",
    "\n",
    "# dataset\n",
    "from keras.datasets import mnist\n",
    "\n",
    "#something useful\n",
    "from keras.utils import to_categorical"
   ]
  },
  {
   "cell_type": "code",
   "execution_count": 4,
   "metadata": {},
   "outputs": [],
   "source": [
    "(x_train0, y_train0), (x_test0, y_test0) = mnist.load_data()"
   ]
  },
  {
   "cell_type": "code",
   "execution_count": 5,
   "metadata": {},
   "outputs": [],
   "source": [
    "x_train = x_train0.reshape(60000,784)\n",
    "x_test = x_test0.reshape(10000,784)"
   ]
  },
  {
   "cell_type": "code",
   "execution_count": 6,
   "metadata": {},
   "outputs": [],
   "source": [
    "y_train_num=to_categorical(y_train0,10)\n",
    "y_test_num=to_categorical(y_test0,10)"
   ]
  },
  {
   "cell_type": "code",
   "execution_count": 7,
   "metadata": {},
   "outputs": [],
   "source": [
    "from keras.models import Model\n",
    "from keras.layers import Input\n",
    "from keras.layers import concatenate, add"
   ]
  },
  {
   "cell_type": "code",
   "execution_count": 8,
   "metadata": {},
   "outputs": [],
   "source": [
    "x=Input(shape=(784,))"
   ]
  },
  {
   "cell_type": "markdown",
   "metadata": {},
   "source": [
    "## 把神經網路拆成784→700→200x3→10的架構（如圖）\n",
    "![](https://i.imgur.com/3D57fZz.png =10x10)"
   ]
  },
  {
   "cell_type": "markdown",
   "metadata": {},
   "source": [
    "### 分別使用三種Activation function"
   ]
  },
  {
   "cell_type": "code",
   "execution_count": 10,
   "metadata": {},
   "outputs": [],
   "source": [
    "f_1=Dense(700, activation='sigmoid') #784->700\n",
    "f_2=Dense(200, activation='relu')    #700->200\n",
    "f_3=Dense(200, activation='sigmoid')  #700->200\n",
    "f_4=Dense(200, activation='tanh') #700->200\n",
    "f_5=Dense(10, activation='softmax')  #600->10"
   ]
  },
  {
   "cell_type": "code",
   "execution_count": 13,
   "metadata": {},
   "outputs": [],
   "source": [
    "h_1=f_1(x)\n",
    "h_2=f_2(h_1)\n",
    "h_3=f_3(h_1)\n",
    "h_4=f_4(h_1)\n",
    "u=concatenate([h_2, h_3, h_4])\n",
    "y=f_5(u)"
   ]
  },
  {
   "cell_type": "code",
   "execution_count": 14,
   "metadata": {},
   "outputs": [],
   "source": [
    "model=Model(x,y)\n",
    "model.compile(loss = 'categorical_crossentropy', \n",
    "              optimizer = SGD(lr=0.1),\n",
    "              metrics = [\"accuracy\"])"
   ]
  },
  {
   "cell_type": "code",
   "execution_count": 15,
   "metadata": {},
   "outputs": [
    {
     "name": "stdout",
     "output_type": "stream",
     "text": [
      "__________________________________________________________________________________________________\n",
      "Layer (type)                    Output Shape         Param #     Connected to                     \n",
      "==================================================================================================\n",
      "input_1 (InputLayer)            (None, 784)          0                                            \n",
      "__________________________________________________________________________________________________\n",
      "dense_6 (Dense)                 (None, 700)          549500      input_1[0][0]                    \n",
      "__________________________________________________________________________________________________\n",
      "dense_7 (Dense)                 (None, 200)          140200      dense_6[2][0]                    \n",
      "__________________________________________________________________________________________________\n",
      "dense_8 (Dense)                 (None, 200)          140200      dense_6[2][0]                    \n",
      "__________________________________________________________________________________________________\n",
      "dense_9 (Dense)                 (None, 200)          140200      dense_6[2][0]                    \n",
      "__________________________________________________________________________________________________\n",
      "concatenate_3 (Concatenate)     (None, 600)          0           dense_7[2][0]                    \n",
      "                                                                 dense_8[2][0]                    \n",
      "                                                                 dense_9[2][0]                    \n",
      "__________________________________________________________________________________________________\n",
      "dense_10 (Dense)                (None, 10)           6010        concatenate_3[0][0]              \n",
      "==================================================================================================\n",
      "Total params: 976,110\n",
      "Trainable params: 976,110\n",
      "Non-trainable params: 0\n",
      "__________________________________________________________________________________________________\n"
     ]
    }
   ],
   "source": [
    "model.summary()"
   ]
  },
  {
   "cell_type": "code",
   "execution_count": 19,
   "metadata": {},
   "outputs": [],
   "source": [
    "from keras.utils import plot_model\n",
    "plot_model(model, show_shapes=True, to_file='model0502.png')"
   ]
  },
  {
   "cell_type": "code",
   "execution_count": 16,
   "metadata": {},
   "outputs": [
    {
     "name": "stdout",
     "output_type": "stream",
     "text": [
      "WARNING:tensorflow:From C:\\ProgramData\\Anaconda3\\lib\\site-packages\\tensorflow\\python\\ops\\math_ops.py:3066: to_int32 (from tensorflow.python.ops.math_ops) is deprecated and will be removed in a future version.\n",
      "Instructions for updating:\n",
      "Use tf.cast instead.\n",
      "Epoch 1/20\n",
      "60000/60000 [==============================] - ETA: 0s - loss: 0.5069 - acc: 0.847 - 18s 298us/step - loss: 0.5065 - acc: 0.8477\n",
      "Epoch 2/20\n",
      "60000/60000 [==============================] - 17s 275us/step - loss: 0.3738 - acc: 0.8830\n",
      "Epoch 3/20\n",
      "60000/60000 [==============================] - 16s 270us/step - loss: 0.3153 - acc: 0.9032\n",
      "Epoch 4/20\n",
      "60000/60000 [==============================] - 15s 245us/step - loss: 0.2910 - acc: 0.9093\n",
      "Epoch 5/20\n",
      "60000/60000 [==============================] - 14s 237us/step - loss: 0.2800 - acc: 0.9148\n",
      "Epoch 6/20\n",
      "60000/60000 [==============================] - 15s 245us/step - loss: 0.2623 - acc: 0.9188\n",
      "Epoch 7/20\n",
      "60000/60000 [==============================] - 12s 206us/step - loss: 0.2491 - acc: 0.9230\n",
      "Epoch 8/20\n",
      "60000/60000 [==============================] - 13s 212us/step - loss: 0.2514 - acc: 0.92183s - loss:\n",
      "Epoch 9/20\n",
      "60000/60000 [==============================] - 12s 207us/step - loss: 0.2322 - acc: 0.9275\n",
      "Epoch 10/20\n",
      "60000/60000 [==============================] - 13s 209us/step - loss: 0.2167 - acc: 0.9319\n",
      "Epoch 11/20\n",
      "60000/60000 [==============================] - 12s 204us/step - loss: 0.2101 - acc: 0.93313s - loss:  - ETA: \n",
      "Epoch 12/20\n",
      "60000/60000 [==============================] - 14s 234us/step - loss: 0.1983 - acc: 0.9377\n",
      "Epoch 13/20\n",
      "60000/60000 [==============================] - 15s 257us/step - loss: 0.1940 - acc: 0.9388\n",
      "Epoch 14/20\n",
      "60000/60000 [==============================] - 15s 256us/step - loss: 0.1872 - acc: 0.9404\n",
      "Epoch 15/20\n",
      "60000/60000 [==============================] - 17s 280us/step - loss: 0.1825 - acc: 0.9423- ETA: 3s\n",
      "Epoch 16/20\n",
      "60000/60000 [==============================] - 15s 251us/step - loss: 0.1848 - acc: 0.9410\n",
      "Epoch 17/20\n",
      "60000/60000 [==============================] - 15s 254us/step - loss: 0.1871 - acc: 0.94100s - loss: 0.1872 - acc: 0.94\n",
      "Epoch 18/20\n",
      "60000/60000 [==============================] - 15s 254us/step - loss: 0.1820 - acc: 0.94290s - loss: 0.1819 - acc: 0.94\n",
      "Epoch 19/20\n",
      "60000/60000 [==============================] - 15s 254us/step - loss: 0.1743 - acc: 0.9453\n",
      "Epoch 20/20\n",
      "60000/60000 [==============================] - 16s 263us/step - loss: 0.1712 - acc: 0.94630s - loss: 0.\n"
     ]
    }
   ],
   "source": [
    "model_1=model.fit(x_train,y_train_num,batch_size=100,epochs=20)"
   ]
  },
  {
   "cell_type": "code",
   "execution_count": 17,
   "metadata": {},
   "outputs": [
    {
     "name": "stdout",
     "output_type": "stream",
     "text": [
      "10000/10000 [==============================] - 1s 129us/step\n",
      "測試資料的 loss: 0.1584090849980712\n",
      "測試資料正確率: 0.9527\n"
     ]
    }
   ],
   "source": [
    "score=model.evaluate(x_test,y_test_num)\n",
    "print('測試資料的 loss:', score[0])\n",
    "print('測試資料正確率:', score[1])"
   ]
  },
  {
   "cell_type": "markdown",
   "metadata": {},
   "source": [
    "### 結語：謝謝你，9527(X)"
   ]
  },
  {
   "cell_type": "code",
   "execution_count": null,
   "metadata": {},
   "outputs": [],
   "source": []
  }
 ],
 "metadata": {
  "kernelspec": {
   "display_name": "Python 3",
   "language": "python",
   "name": "python3"
  },
  "language_info": {
   "codemirror_mode": {
    "name": "ipython",
    "version": 3
   },
   "file_extension": ".py",
   "mimetype": "text/x-python",
   "name": "python",
   "nbconvert_exporter": "python",
   "pygments_lexer": "ipython3",
   "version": "3.6.5"
  }
 },
 "nbformat": 4,
 "nbformat_minor": 2
}
